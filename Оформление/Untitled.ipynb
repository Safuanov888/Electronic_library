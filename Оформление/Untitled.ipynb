{
 "cells": [
  {
   "cell_type": "code",
   "execution_count": 1,
   "id": "3422d682-b602-4e4e-8b07-37d9cf0eb6dd",
   "metadata": {},
   "outputs": [
    {
     "data": {
      "text/latex": [
       "$\\displaystyle \\frac{1}{3} - \\frac{2^{- n}}{2} + \\frac{2^{- 2 n}}{6}$"
      ],
      "text/plain": [
       "1/3 - 1/(2*2**n) + 1/(6*2**(2*n))"
      ]
     },
     "execution_count": 1,
     "metadata": {},
     "output_type": "execute_result"
    }
   ],
   "source": [
    "from sympy import *\n",
    "\n",
    "k, n = symbols('k n')\n",
    "expr = 1/2**n * ( Sum( (k/2**n)**2 - 2 * k/2**n , (k, 1, 2**n-1)) + 2**n - 1 )\n",
    "\n",
    "expand(expr.doit())"
   ]
  }
 ],
 "metadata": {
  "kernelspec": {
   "display_name": "Python 3 (ipykernel)",
   "language": "python",
   "name": "python3"
  },
  "language_info": {
   "codemirror_mode": {
    "name": "ipython",
    "version": 3
   },
   "file_extension": ".py",
   "mimetype": "text/x-python",
   "name": "python",
   "nbconvert_exporter": "python",
   "pygments_lexer": "ipython3",
   "version": "3.10.7"
  }
 },
 "nbformat": 4,
 "nbformat_minor": 5
}
