{
 "cells": [
  {
   "cell_type": "markdown",
   "id": "41582564-fa51-4ca6-b978-65b365e8fd07",
   "metadata": {},
   "source": [
    "# Методы первой необходмости"
   ]
  },
  {
   "cell_type": "code",
   "execution_count": 30,
   "id": "ba6a9c0c-6758-4c9b-947e-520e47859d13",
   "metadata": {},
   "outputs": [],
   "source": [
    "import os\n",
    "os.environ['HF_HOME'] = 'D:\\\\HuggingFace'\n",
    "os.environ['TRANSFORMERS_CACHE'] = os.environ['HF_HOME']\n",
    "os.environ['HUGGINGFACE_HUB_CACHE'] = os.environ['HF_HOME'] "
   ]
  },
  {
   "cell_type": "code",
   "execution_count": 2,
   "id": "9a76d396-7bb2-488b-aade-6cccfb9853a9",
   "metadata": {},
   "outputs": [
    {
     "name": "stderr",
     "output_type": "stream",
     "text": [
      "There was a problem when trying to write in your cache folder (D:\\HuggingFace). You should set the environment variable TRANSFORMERS_CACHE to a writable directory.\n"
     ]
    }
   ],
   "source": [
    "from warnings import filterwarnings\n",
    "filterwarnings('ignore')\n",
    "\n",
    "\n",
    "import pandas as pd\n",
    "import numpy as np\n",
    "import matplotlib.pyplot as plt\n",
    "import seaborn as sns\n",
    "import torch\n",
    "from transformers import pipeline\n",
    "import re\n",
    "\n",
    "from sklearn.preprocessing import StandardScaler\n",
    "from sklearn.model_selection import train_test_split\n",
    "\n",
    "sns.set_style('darkgrid')\n",
    "device = 'cuda' if torch.cuda.is_available() else 'cpu'"
   ]
  },
  {
   "cell_type": "markdown",
   "id": "5f55b2d8-ac8a-4fce-8e7f-dfd1dee2cd6e",
   "metadata": {},
   "source": [
    "# Предобработка текстов в pdf и создание датасета"
   ]
  },
  {
   "cell_type": "code",
   "execution_count": 7,
   "id": "2d50c5f1-b054-437a-843c-901cd15762b0",
   "metadata": {},
   "outputs": [],
   "source": [
    "import PyPDF2\n",
    "import pathlib"
   ]
  },
  {
   "cell_type": "code",
   "execution_count": 4,
   "id": "72e3a1f5-d53c-45ac-a661-d358e4dc8634",
   "metadata": {},
   "outputs": [],
   "source": [
    "clean_data = pd.DataFrame({\"Informatics\": [], \"Art\": [], \"Space\": [], \"Sport\": [], \"Chemical\": []})"
   ]
  },
  {
   "cell_type": "code",
   "execution_count": 5,
   "id": "c3b55acb-3940-4de4-a4cf-4f2fb42a4152",
   "metadata": {},
   "outputs": [],
   "source": [
    "def process_info(file):\n",
    "    with open(file, \"rb\") as f:\n",
    "        reader = PyPDF2.PdfReader(f)\n",
    "        text = ''.join([page.extract_text() for page in reader.pages])\n",
    "    # Служебная информация\n",
    "    text = re.sub(r'ISSN\\s+\\d{4}-\\d{3,4}[^\\n]*', '', text)\n",
    "    text = re.sub(r'\\d{4};\\d{2}\\(\\d+\\):\\d+–\\d+', '', text)\n",
    "\n",
    "    # Авторы\n",
    "    text = re.sub(r'[А-ЯЁ][а-яё]+\\s+[А-ЯЁ][\\.\\s]+\\s*[А-ЯЁ][\\.\\s]*', '', text)\n",
    "    text = re.sub(r'[А-ЯЁ][а-яё]+\\s+[А-ЯЁ][а-яё]+\\s+[А-ЯЁ][\\.\\s]+\\s*[А-ЯЁ][\\.\\s]*', '', text)\n",
    "    text = re.sub(r'\\d+[\\s\\w\\.,–-]+(университет|институт|академия|центр)[^\\n]*', '', text)\n",
    "\n",
    "    # Сноски в квадратных скобках\n",
    "    text = re.sub(r'\\[\\d+\\]', '', text)  # [1], [2]\n",
    "    text = re.sub(r'\\[\\d+[,-]\\d+\\]', '', text)  # [1-3], [4,5]\n",
    "    text = re.sub(r'\\[[A-Za-z]+\\d*\\]', '', text)  # [A1], [B]\n",
    "    \n",
    "    # email\n",
    "    text = re.sub(r'\\S+@\\S+', '', text)\n",
    "    \n",
    "    # английские разделы \n",
    "    text = re.sub(r'Abstract[^\\n]*[\\s\\S]*?(?=\\n[А-ЯЁ]|$)', '', text)\n",
    "    text = re.sub(r'Keywords[^\\n]*[\\s\\S]*?(?=\\n[А-ЯЁ]|$)', '', text)\n",
    "    text = re.sub(r'For citation[^\\n]*[\\s\\S]*?(?=\\n[А-ЯЁ]|$)', '', text)\n",
    "    \n",
    "    # ссылки\n",
    "    text = re.sub(r'http[s]?://(?:[a-zA-Z]|[0-9]|[$-_@.&+]|[!*\\\\(\\\\),]|(?:%[0-9a-fA-F][0-9a-fA-F]))+', '', text)\n",
    "    text = re.sub(r'DOI:\\s*\\S+', '', text)\n",
    "    \n",
    "    # библиография\n",
    "    text = re.sub(r'Список\\s+источников[\\s\\S]*', '', text)\n",
    "    text = re.sub(r'References[\\s\\S]*', '', text)\n",
    "    \n",
    "    # спец.символы\n",
    "    text = text.replace('\\xa0', ' ').replace('•', '')\n",
    "    text = re.sub(r'-\\s+', '', text)  \n",
    "    text = re.sub(r'\\s+', ' ', text).strip()\n",
    "    text = re.sub(r'•\\s*\\n', '', text)\n",
    "    \n",
    "    # оставшиеся английские фрагменты\n",
    "    text = re.sub(r'(?:[A-Za-z-]+\\s){3,}[A-Za-z-]*', '', text)\n",
    "    \n",
    "    return text"
   ]
  },
  {
   "cell_type": "markdown",
   "id": "b076032c-7f0f-4854-9e99-1d186ccb7e40",
   "metadata": {},
   "source": [
    "## Тексты образования"
   ]
  },
  {
   "cell_type": "code",
   "execution_count": 8,
   "id": "f3ec6b87-4590-40c4-8d12-21c4950bbb48",
   "metadata": {},
   "outputs": [],
   "source": [
    "books = pathlib.Path(\"D:/ПРОГА/Проектики/Github/Electronic_library/dataset/Образование\")\n",
    "files_to_process = []\n",
    "for book in books.iterdir():\n",
    "    files_to_process.append(str(book))\n",
    "\n",
    "clean_files = []\n",
    "for file in files_to_process:\n",
    "    clean_files.append(process_info(file))\n",
    "\n",
    "clean_data['Informatics'] = clean_files"
   ]
  },
  {
   "cell_type": "markdown",
   "id": "1362c725-ee26-4472-b634-08347bf25a8f",
   "metadata": {},
   "source": [
    "## Тексты спорта"
   ]
  },
  {
   "cell_type": "code",
   "execution_count": 9,
   "id": "d2cf228b-383e-483d-af3f-37e6b9446fb3",
   "metadata": {},
   "outputs": [],
   "source": [
    "books = pathlib.Path(\"D:/ПРОГА/Проектики/Github/Electronic_library/dataset/Спорт\")\n",
    "files_to_process = []\n",
    "for book in books.iterdir():\n",
    "    files_to_process.append(str(book))\n",
    "\n",
    "clean_files = []\n",
    "for file in files_to_process:\n",
    "    clean_files.append(process_info(file))\n",
    "\n",
    "clean_data['Sport'] = clean_files"
   ]
  },
  {
   "cell_type": "markdown",
   "id": "c4d3261a-f17d-46a6-a0de-42e78cf63fc7",
   "metadata": {},
   "source": [
    "## Тексты космоса"
   ]
  },
  {
   "cell_type": "code",
   "execution_count": 10,
   "id": "59ae3ba5-c5af-4b34-a1f9-c2a26817f73d",
   "metadata": {},
   "outputs": [],
   "source": [
    "books = pathlib.Path(\"D:/ПРОГА/Проектики/Github/Electronic_library/dataset/Космос\")\n",
    "files_to_process = []\n",
    "for book in books.iterdir():\n",
    "    files_to_process.append(str(book))\n",
    "\n",
    "clean_files = []\n",
    "for file in files_to_process:\n",
    "    clean_files.append(process_info(file))\n",
    "\n",
    "clean_data['Space'] = clean_files"
   ]
  },
  {
   "cell_type": "markdown",
   "id": "30880daf-c694-4720-ac31-5a5812f0ac2e",
   "metadata": {},
   "source": [
    "## Тексты химии"
   ]
  },
  {
   "cell_type": "code",
   "execution_count": 11,
   "id": "5e5ff38b-6f7d-4e6b-b854-5bc8c7c9ad2b",
   "metadata": {},
   "outputs": [],
   "source": [
    "books = pathlib.Path(\"D:/ПРОГА/Проектики/Github/Electronic_library/dataset/Химия\")\n",
    "files_to_process = []\n",
    "for book in books.iterdir():\n",
    "    files_to_process.append(str(book))\n",
    "\n",
    "clean_files = []\n",
    "for file in files_to_process:\n",
    "    clean_files.append(process_info(file))\n",
    "\n",
    "clean_data['Chemical'] = clean_files"
   ]
  },
  {
   "cell_type": "markdown",
   "id": "cb4d75d8-54b1-4231-b9a4-3645ae5b0db8",
   "metadata": {},
   "source": [
    "## Тексты искусствоведения"
   ]
  },
  {
   "cell_type": "code",
   "execution_count": 12,
   "id": "245d800f-8672-4bb2-bfb2-db75fab0ef7c",
   "metadata": {},
   "outputs": [],
   "source": [
    "books = pathlib.Path(\"D:/ПРОГА/Проектики/Github/Electronic_library/dataset/Искусствоведение\")\n",
    "files_to_process = []\n",
    "for book in books.iterdir():\n",
    "    files_to_process.append(str(book))\n",
    "\n",
    "clean_files = []\n",
    "for file in files_to_process:\n",
    "    clean_files.append(process_info(file))\n",
    "\n",
    "clean_data['Art'] = clean_files"
   ]
  },
  {
   "cell_type": "code",
   "execution_count": 13,
   "id": "9a4e7c3c-4226-488a-9b85-2671a19204d2",
   "metadata": {},
   "outputs": [
    {
     "data": {
      "text/plain": [
       "(20, 5)"
      ]
     },
     "execution_count": 13,
     "metadata": {},
     "output_type": "execute_result"
    }
   ],
   "source": [
    "clean_data.shape"
   ]
  },
  {
   "cell_type": "markdown",
   "id": "7c6022e3-b30c-47ca-886d-f3e609991eba",
   "metadata": {},
   "source": [
    "## Создание датасета"
   ]
  },
  {
   "cell_type": "code",
   "execution_count": 18,
   "id": "177b2d15-0a2e-4581-9cf4-466f46a69b8d",
   "metadata": {},
   "outputs": [],
   "source": [
    "clean_data.to_csv('clean_data.csv', sep=',', index=False, encoding='utf-8-sig')"
   ]
  },
  {
   "cell_type": "markdown",
   "id": "9c04cac9-7961-4972-b10e-59980f5d9699",
   "metadata": {},
   "source": [
    "# Построение модели"
   ]
  },
  {
   "cell_type": "markdown",
   "id": "105c38eb-d14c-4bce-9bb4-7becaf275d0b",
   "metadata": {},
   "source": [
    "## Загрузка данных"
   ]
  },
  {
   "cell_type": "code",
   "execution_count": 186,
   "id": "eaabe204-3e3f-49e7-b662-8ddbff2aa86d",
   "metadata": {},
   "outputs": [],
   "source": [
    "data = pd.read_csv('clean_data.csv')"
   ]
  },
  {
   "cell_type": "code",
   "execution_count": 187,
   "id": "42e45ce0-1f47-4cd6-a774-707c5f8242a8",
   "metadata": {},
   "outputs": [
    {
     "data": {
      "text/html": [
       "<div>\n",
       "<style scoped>\n",
       "    .dataframe tbody tr th:only-of-type {\n",
       "        vertical-align: middle;\n",
       "    }\n",
       "\n",
       "    .dataframe tbody tr th {\n",
       "        vertical-align: top;\n",
       "    }\n",
       "\n",
       "    .dataframe thead th {\n",
       "        text-align: right;\n",
       "    }\n",
       "</style>\n",
       "<table border=\"1\" class=\"dataframe\">\n",
       "  <thead>\n",
       "    <tr style=\"text-align: right;\">\n",
       "      <th></th>\n",
       "      <th>Informatics</th>\n",
       "      <th>Art</th>\n",
       "      <th>Space</th>\n",
       "      <th>Sport</th>\n",
       "      <th>Chemical</th>\n",
       "    </tr>\n",
       "  </thead>\n",
       "  <tbody>\n",
       "    <tr>\n",
       "      <th>0</th>\n",
       "      <td>ПЕДАГОГИЧЕСКИЙ ОПЫТ / PEDAGOGICAL EXPERIENCE г...</td>\n",
       "      <td>8 РОССИЙСКИХ ЦЕННОСТЕЙ В КОНКРЕТНОИСТОРИЧЕСКОМ...</td>\n",
       "      <td>Солнечно -земная физика. 2024. Т. 10. № 4 Soln...</td>\n",
       "      <td>Ученые записки университета имени П.Ф. Лесгафт...</td>\n",
       "      <td>ХИМИЯ РАСТИТЕЛЬНОГО СЫРЬЯ . 2025 . №1. С. 106–...</td>\n",
       "    </tr>\n",
       "    <tr>\n",
       "      <th>1</th>\n",
       "      <td>ИНФОРМАТИЗАЦИЯ ОБРАЗОВАНИЯ / г. Москва, Россия...</td>\n",
       "      <td>110 БАУХАУСА И ИХ ВЛИЯНИЕ НА ТЕОРИЮ АРХИТЕКТУР...</td>\n",
       "      <td>Солнечно -земная физика. 2025. Т. 11. № 1 Soln...</td>\n",
       "      <td>Ученые записки университета имени П.Ф. Лесгафт...</td>\n",
       "      <td>ХИМИЯ РАСТИТЕЛЬНОГО СЫРЬЯ . 2025. №1. С. 188–1...</td>\n",
       "    </tr>\n",
       "    <tr>\n",
       "      <th>2</th>\n",
       "      <td>ИНФОРМАТИЗАЦИЯ ОБРАЗОВАНИЯ / Аннотация В повыш...</td>\n",
       "      <td>117 ⇒ Художественная культура. ЭстетикаТ ЕАТРА...</td>\n",
       "      <td>Солнечно -земная физика. 2025. Т. 11. № 1 Soln...</td>\n",
       "      <td>Ученые записки университета имени П.Ф. Лесгафт...</td>\n",
       "      <td>ХИМИЯ РАСТИТЕЛЬНОГО СЫРЬЯ . 2025. №1. С. 197–2...</td>\n",
       "    </tr>\n",
       "    <tr>\n",
       "      <th>3</th>\n",
       "      <td>ИНФОРМАТИЗАЦИЯ ОБРАЗОВАНИЯ / Аннотация В стать...</td>\n",
       "      <td>124 ДРАМАТУРГИИ ТЕЛЕСЕРИАЛА УДК 801 Химки, Мос...</td>\n",
       "      <td>Солнечно -земная физика. 2025. Т. 11. № 1 Soln...</td>\n",
       "      <td>Ученые записки университета имени П.Ф. Лесгафт...</td>\n",
       "      <td>ХИМИЯ РАСТИТЕЛЬНОГО СЫРЬЯ . 2025. №1. С. 208–2...</td>\n",
       "    </tr>\n",
       "    <tr>\n",
       "      <th>4</th>\n",
       "      <td>ПЕДАГОГИЧЕСКИЙ ОПЫТ / PEDAGOGICAL EXPERIENCE А...</td>\n",
       "      <td>132 В ТЕАТРАЛЬНЫХ ОПЫТАХ А. ВАСИЛЬЕВА УДК 740 ...</td>\n",
       "      <td>Солнечно -земная физика. 2025. Т. 11. № 1 Soln...</td>\n",
       "      <td>Ученые записки университета имени П.Ф. Лесгафт...</td>\n",
       "      <td>ХИМИЯ РАСТИТЕЛЬНОГО СЫРЬЯ . 2025. №1. С. 215–2...</td>\n",
       "    </tr>\n",
       "  </tbody>\n",
       "</table>\n",
       "</div>"
      ],
      "text/plain": [
       "                                         Informatics  \\\n",
       "0  ПЕДАГОГИЧЕСКИЙ ОПЫТ / PEDAGOGICAL EXPERIENCE г...   \n",
       "1  ИНФОРМАТИЗАЦИЯ ОБРАЗОВАНИЯ / г. Москва, Россия...   \n",
       "2  ИНФОРМАТИЗАЦИЯ ОБРАЗОВАНИЯ / Аннотация В повыш...   \n",
       "3  ИНФОРМАТИЗАЦИЯ ОБРАЗОВАНИЯ / Аннотация В стать...   \n",
       "4  ПЕДАГОГИЧЕСКИЙ ОПЫТ / PEDAGOGICAL EXPERIENCE А...   \n",
       "\n",
       "                                                 Art  \\\n",
       "0  8 РОССИЙСКИХ ЦЕННОСТЕЙ В КОНКРЕТНОИСТОРИЧЕСКОМ...   \n",
       "1  110 БАУХАУСА И ИХ ВЛИЯНИЕ НА ТЕОРИЮ АРХИТЕКТУР...   \n",
       "2  117 ⇒ Художественная культура. ЭстетикаТ ЕАТРА...   \n",
       "3  124 ДРАМАТУРГИИ ТЕЛЕСЕРИАЛА УДК 801 Химки, Мос...   \n",
       "4  132 В ТЕАТРАЛЬНЫХ ОПЫТАХ А. ВАСИЛЬЕВА УДК 740 ...   \n",
       "\n",
       "                                               Space  \\\n",
       "0  Солнечно -земная физика. 2024. Т. 10. № 4 Soln...   \n",
       "1  Солнечно -земная физика. 2025. Т. 11. № 1 Soln...   \n",
       "2  Солнечно -земная физика. 2025. Т. 11. № 1 Soln...   \n",
       "3  Солнечно -земная физика. 2025. Т. 11. № 1 Soln...   \n",
       "4  Солнечно -земная физика. 2025. Т. 11. № 1 Soln...   \n",
       "\n",
       "                                               Sport  \\\n",
       "0  Ученые записки университета имени П.Ф. Лесгафт...   \n",
       "1  Ученые записки университета имени П.Ф. Лесгафт...   \n",
       "2  Ученые записки университета имени П.Ф. Лесгафт...   \n",
       "3  Ученые записки университета имени П.Ф. Лесгафт...   \n",
       "4  Ученые записки университета имени П.Ф. Лесгафт...   \n",
       "\n",
       "                                            Chemical  \n",
       "0  ХИМИЯ РАСТИТЕЛЬНОГО СЫРЬЯ . 2025 . №1. С. 106–...  \n",
       "1  ХИМИЯ РАСТИТЕЛЬНОГО СЫРЬЯ . 2025. №1. С. 188–1...  \n",
       "2  ХИМИЯ РАСТИТЕЛЬНОГО СЫРЬЯ . 2025. №1. С. 197–2...  \n",
       "3  ХИМИЯ РАСТИТЕЛЬНОГО СЫРЬЯ . 2025. №1. С. 208–2...  \n",
       "4  ХИМИЯ РАСТИТЕЛЬНОГО СЫРЬЯ . 2025. №1. С. 215–2...  "
      ]
     },
     "execution_count": 187,
     "metadata": {},
     "output_type": "execute_result"
    }
   ],
   "source": [
    "data.head()"
   ]
  },
  {
   "cell_type": "markdown",
   "id": "330b1ffd-f660-4e35-a053-6640e47593a7",
   "metadata": {},
   "source": [
    "## Загрузка модели с Hugging Face"
   ]
  },
  {
   "cell_type": "code",
   "execution_count": 25,
   "id": "c42182b2-f570-4078-8e5b-3edbeb530103",
   "metadata": {},
   "outputs": [
    {
     "ename": "PermissionError",
     "evalue": "[WinError 5] Отказано в доступе: 'D:\\\\HuggingFace'",
     "output_type": "error",
     "traceback": [
      "\u001b[1;31m---------------------------------------------------------------------------\u001b[0m",
      "\u001b[1;31mPermissionError\u001b[0m                           Traceback (most recent call last)",
      "Cell \u001b[1;32mIn [25], line 1\u001b[0m\n\u001b[1;32m----> 1\u001b[0m pipe \u001b[38;5;241m=\u001b[39m \u001b[43mpipeline\u001b[49m\u001b[43m(\u001b[49m\u001b[38;5;124;43m\"\u001b[39;49m\u001b[38;5;124;43mzero-shot-classification\u001b[39;49m\u001b[38;5;124;43m\"\u001b[39;49m\u001b[43m,\u001b[49m\u001b[43m \u001b[49m\u001b[43mmodel\u001b[49m\u001b[38;5;241;43m=\u001b[39;49m\u001b[38;5;124;43m\"\u001b[39;49m\u001b[38;5;124;43mMoritzLaurer/mDeBERTa-v3-base-mnli-xnli\u001b[39;49m\u001b[38;5;124;43m\"\u001b[39;49m\u001b[43m)\u001b[49m\n",
      "File \u001b[1;32m~\\AppData\\Local\\Programs\\Python\\Python310\\lib\\site-packages\\transformers\\pipelines\\__init__.py:747\u001b[0m, in \u001b[0;36mpipeline\u001b[1;34m(task, model, config, tokenizer, feature_extractor, image_processor, framework, revision, use_fast, token, device, device_map, torch_dtype, trust_remote_code, model_kwargs, pipeline_class, **kwargs)\u001b[0m\n\u001b[0;32m    743\u001b[0m     pretrained_model_name_or_path \u001b[38;5;241m=\u001b[39m model\n\u001b[0;32m    745\u001b[0m \u001b[38;5;28;01mif\u001b[39;00m \u001b[38;5;129;01mnot\u001b[39;00m \u001b[38;5;28misinstance\u001b[39m(config, PretrainedConfig) \u001b[38;5;129;01mand\u001b[39;00m pretrained_model_name_or_path \u001b[38;5;129;01mis\u001b[39;00m \u001b[38;5;129;01mnot\u001b[39;00m \u001b[38;5;28;01mNone\u001b[39;00m:\n\u001b[0;32m    746\u001b[0m     \u001b[38;5;66;03m# We make a call to the config file first (which may be absent) to get the commit hash as soon as possible\u001b[39;00m\n\u001b[1;32m--> 747\u001b[0m     resolved_config_file \u001b[38;5;241m=\u001b[39m cached_file(\n\u001b[0;32m    748\u001b[0m         pretrained_model_name_or_path,\n\u001b[0;32m    749\u001b[0m         CONFIG_NAME,\n\u001b[0;32m    750\u001b[0m         _raise_exceptions_for_missing_entries\u001b[38;5;241m=\u001b[39m\u001b[38;5;28;01mFalse\u001b[39;00m,\n\u001b[0;32m    751\u001b[0m         _raise_exceptions_for_connection_errors\u001b[38;5;241m=\u001b[39m\u001b[38;5;28;01mFalse\u001b[39;00m,\n\u001b[0;32m    752\u001b[0m         \u001b[38;5;241m*\u001b[39m\u001b[38;5;241m*\u001b[39mhub_kwargs,\n\u001b[0;32m    753\u001b[0m     )\n\u001b[0;32m    754\u001b[0m     hub_kwargs[\u001b[38;5;124m\"\u001b[39m\u001b[38;5;124m_commit_hash\u001b[39m\u001b[38;5;124m\"\u001b[39m] \u001b[38;5;241m=\u001b[39m extract_commit_hash(resolved_config_file, commit_hash)\n\u001b[0;32m    755\u001b[0m \u001b[38;5;28;01melse\u001b[39;00m:\n",
      "File \u001b[1;32m~\\AppData\\Local\\Programs\\Python\\Python310\\lib\\site-packages\\transformers\\utils\\hub.py:389\u001b[0m, in \u001b[0;36mcached_file\u001b[1;34m(path_or_repo_id, filename, cache_dir, force_download, resume_download, proxies, token, revision, local_files_only, subfolder, repo_type, user_agent, _raise_exceptions_for_missing_entries, _raise_exceptions_for_connection_errors, _commit_hash, **deprecated_kwargs)\u001b[0m\n\u001b[0;32m    386\u001b[0m user_agent \u001b[38;5;241m=\u001b[39m http_user_agent(user_agent)\n\u001b[0;32m    387\u001b[0m \u001b[38;5;28;01mtry\u001b[39;00m:\n\u001b[0;32m    388\u001b[0m     \u001b[38;5;66;03m# Load from URL or cache if already cached\u001b[39;00m\n\u001b[1;32m--> 389\u001b[0m     resolved_file \u001b[38;5;241m=\u001b[39m \u001b[43mhf_hub_download\u001b[49m\u001b[43m(\u001b[49m\n\u001b[0;32m    390\u001b[0m \u001b[43m        \u001b[49m\u001b[43mpath_or_repo_id\u001b[49m\u001b[43m,\u001b[49m\n\u001b[0;32m    391\u001b[0m \u001b[43m        \u001b[49m\u001b[43mfilename\u001b[49m\u001b[43m,\u001b[49m\n\u001b[0;32m    392\u001b[0m \u001b[43m        \u001b[49m\u001b[43msubfolder\u001b[49m\u001b[38;5;241;43m=\u001b[39;49m\u001b[38;5;28;43;01mNone\u001b[39;49;00m\u001b[43m \u001b[49m\u001b[38;5;28;43;01mif\u001b[39;49;00m\u001b[43m \u001b[49m\u001b[38;5;28;43mlen\u001b[39;49m\u001b[43m(\u001b[49m\u001b[43msubfolder\u001b[49m\u001b[43m)\u001b[49m\u001b[43m \u001b[49m\u001b[38;5;241;43m==\u001b[39;49m\u001b[43m \u001b[49m\u001b[38;5;241;43m0\u001b[39;49m\u001b[43m \u001b[49m\u001b[38;5;28;43;01melse\u001b[39;49;00m\u001b[43m \u001b[49m\u001b[43msubfolder\u001b[49m\u001b[43m,\u001b[49m\n\u001b[0;32m    393\u001b[0m \u001b[43m        \u001b[49m\u001b[43mrepo_type\u001b[49m\u001b[38;5;241;43m=\u001b[39;49m\u001b[43mrepo_type\u001b[49m\u001b[43m,\u001b[49m\n\u001b[0;32m    394\u001b[0m \u001b[43m        \u001b[49m\u001b[43mrevision\u001b[49m\u001b[38;5;241;43m=\u001b[39;49m\u001b[43mrevision\u001b[49m\u001b[43m,\u001b[49m\n\u001b[0;32m    395\u001b[0m \u001b[43m        \u001b[49m\u001b[43mcache_dir\u001b[49m\u001b[38;5;241;43m=\u001b[39;49m\u001b[43mcache_dir\u001b[49m\u001b[43m,\u001b[49m\n\u001b[0;32m    396\u001b[0m \u001b[43m        \u001b[49m\u001b[43muser_agent\u001b[49m\u001b[38;5;241;43m=\u001b[39;49m\u001b[43muser_agent\u001b[49m\u001b[43m,\u001b[49m\n\u001b[0;32m    397\u001b[0m \u001b[43m        \u001b[49m\u001b[43mforce_download\u001b[49m\u001b[38;5;241;43m=\u001b[39;49m\u001b[43mforce_download\u001b[49m\u001b[43m,\u001b[49m\n\u001b[0;32m    398\u001b[0m \u001b[43m        \u001b[49m\u001b[43mproxies\u001b[49m\u001b[38;5;241;43m=\u001b[39;49m\u001b[43mproxies\u001b[49m\u001b[43m,\u001b[49m\n\u001b[0;32m    399\u001b[0m \u001b[43m        \u001b[49m\u001b[43mresume_download\u001b[49m\u001b[38;5;241;43m=\u001b[39;49m\u001b[43mresume_download\u001b[49m\u001b[43m,\u001b[49m\n\u001b[0;32m    400\u001b[0m \u001b[43m        \u001b[49m\u001b[43mtoken\u001b[49m\u001b[38;5;241;43m=\u001b[39;49m\u001b[43mtoken\u001b[49m\u001b[43m,\u001b[49m\n\u001b[0;32m    401\u001b[0m \u001b[43m        \u001b[49m\u001b[43mlocal_files_only\u001b[49m\u001b[38;5;241;43m=\u001b[39;49m\u001b[43mlocal_files_only\u001b[49m\u001b[43m,\u001b[49m\n\u001b[0;32m    402\u001b[0m \u001b[43m    \u001b[49m\u001b[43m)\u001b[49m\n\u001b[0;32m    403\u001b[0m \u001b[38;5;28;01mexcept\u001b[39;00m GatedRepoError \u001b[38;5;28;01mas\u001b[39;00m e:\n\u001b[0;32m    404\u001b[0m     \u001b[38;5;28;01mraise\u001b[39;00m \u001b[38;5;167;01mEnvironmentError\u001b[39;00m(\n\u001b[0;32m    405\u001b[0m         \u001b[38;5;124m\"\u001b[39m\u001b[38;5;124mYou are trying to access a gated repo.\u001b[39m\u001b[38;5;130;01m\\n\u001b[39;00m\u001b[38;5;124mMake sure to request access at \u001b[39m\u001b[38;5;124m\"\u001b[39m\n\u001b[0;32m    406\u001b[0m         \u001b[38;5;124mf\u001b[39m\u001b[38;5;124m\"\u001b[39m\u001b[38;5;124mhttps://huggingface.co/\u001b[39m\u001b[38;5;132;01m{\u001b[39;00mpath_or_repo_id\u001b[38;5;132;01m}\u001b[39;00m\u001b[38;5;124m and pass a token having permission to this repo either \u001b[39m\u001b[38;5;124m\"\u001b[39m\n\u001b[0;32m    407\u001b[0m         \u001b[38;5;124m\"\u001b[39m\u001b[38;5;124mby logging in with `huggingface-cli login` or by passing `token=<your_token>`.\u001b[39m\u001b[38;5;124m\"\u001b[39m\n\u001b[0;32m    408\u001b[0m     ) \u001b[38;5;28;01mfrom\u001b[39;00m\u001b[38;5;250m \u001b[39m\u001b[38;5;21;01me\u001b[39;00m\n",
      "File \u001b[1;32m~\\AppData\\Local\\Programs\\Python\\Python310\\lib\\site-packages\\huggingface_hub\\utils\\_validators.py:114\u001b[0m, in \u001b[0;36mvalidate_hf_hub_args.<locals>._inner_fn\u001b[1;34m(*args, **kwargs)\u001b[0m\n\u001b[0;32m    111\u001b[0m \u001b[38;5;28;01mif\u001b[39;00m check_use_auth_token:\n\u001b[0;32m    112\u001b[0m     kwargs \u001b[38;5;241m=\u001b[39m smoothly_deprecate_use_auth_token(fn_name\u001b[38;5;241m=\u001b[39mfn\u001b[38;5;241m.\u001b[39m\u001b[38;5;18m__name__\u001b[39m, has_token\u001b[38;5;241m=\u001b[39mhas_token, kwargs\u001b[38;5;241m=\u001b[39mkwargs)\n\u001b[1;32m--> 114\u001b[0m \u001b[38;5;28;01mreturn\u001b[39;00m fn(\u001b[38;5;241m*\u001b[39margs, \u001b[38;5;241m*\u001b[39m\u001b[38;5;241m*\u001b[39mkwargs)\n",
      "File \u001b[1;32m~\\AppData\\Local\\Programs\\Python\\Python310\\lib\\site-packages\\huggingface_hub\\file_download.py:961\u001b[0m, in \u001b[0;36mhf_hub_download\u001b[1;34m(repo_id, filename, subfolder, repo_type, revision, library_name, library_version, cache_dir, local_dir, user_agent, force_download, proxies, etag_timeout, token, local_files_only, headers, endpoint, resume_download, force_filename, local_dir_use_symlinks)\u001b[0m\n\u001b[0;32m    941\u001b[0m     \u001b[38;5;28;01mreturn\u001b[39;00m _hf_hub_download_to_local_dir(\n\u001b[0;32m    942\u001b[0m         \u001b[38;5;66;03m# Destination\u001b[39;00m\n\u001b[0;32m    943\u001b[0m         local_dir\u001b[38;5;241m=\u001b[39mlocal_dir,\n\u001b[1;32m   (...)\u001b[0m\n\u001b[0;32m    958\u001b[0m         local_files_only\u001b[38;5;241m=\u001b[39mlocal_files_only,\n\u001b[0;32m    959\u001b[0m     )\n\u001b[0;32m    960\u001b[0m \u001b[38;5;28;01melse\u001b[39;00m:\n\u001b[1;32m--> 961\u001b[0m     \u001b[38;5;28;01mreturn\u001b[39;00m \u001b[43m_hf_hub_download_to_cache_dir\u001b[49m\u001b[43m(\u001b[49m\n\u001b[0;32m    962\u001b[0m \u001b[43m        \u001b[49m\u001b[38;5;66;43;03m# Destination\u001b[39;49;00m\n\u001b[0;32m    963\u001b[0m \u001b[43m        \u001b[49m\u001b[43mcache_dir\u001b[49m\u001b[38;5;241;43m=\u001b[39;49m\u001b[43mcache_dir\u001b[49m\u001b[43m,\u001b[49m\n\u001b[0;32m    964\u001b[0m \u001b[43m        \u001b[49m\u001b[38;5;66;43;03m# File info\u001b[39;49;00m\n\u001b[0;32m    965\u001b[0m \u001b[43m        \u001b[49m\u001b[43mrepo_id\u001b[49m\u001b[38;5;241;43m=\u001b[39;49m\u001b[43mrepo_id\u001b[49m\u001b[43m,\u001b[49m\n\u001b[0;32m    966\u001b[0m \u001b[43m        \u001b[49m\u001b[43mfilename\u001b[49m\u001b[38;5;241;43m=\u001b[39;49m\u001b[43mfilename\u001b[49m\u001b[43m,\u001b[49m\n\u001b[0;32m    967\u001b[0m \u001b[43m        \u001b[49m\u001b[43mrepo_type\u001b[49m\u001b[38;5;241;43m=\u001b[39;49m\u001b[43mrepo_type\u001b[49m\u001b[43m,\u001b[49m\n\u001b[0;32m    968\u001b[0m \u001b[43m        \u001b[49m\u001b[43mrevision\u001b[49m\u001b[38;5;241;43m=\u001b[39;49m\u001b[43mrevision\u001b[49m\u001b[43m,\u001b[49m\n\u001b[0;32m    969\u001b[0m \u001b[43m        \u001b[49m\u001b[38;5;66;43;03m# HTTP info\u001b[39;49;00m\n\u001b[0;32m    970\u001b[0m \u001b[43m        \u001b[49m\u001b[43mendpoint\u001b[49m\u001b[38;5;241;43m=\u001b[39;49m\u001b[43mendpoint\u001b[49m\u001b[43m,\u001b[49m\n\u001b[0;32m    971\u001b[0m \u001b[43m        \u001b[49m\u001b[43metag_timeout\u001b[49m\u001b[38;5;241;43m=\u001b[39;49m\u001b[43metag_timeout\u001b[49m\u001b[43m,\u001b[49m\n\u001b[0;32m    972\u001b[0m \u001b[43m        \u001b[49m\u001b[43mheaders\u001b[49m\u001b[38;5;241;43m=\u001b[39;49m\u001b[43mhf_headers\u001b[49m\u001b[43m,\u001b[49m\n\u001b[0;32m    973\u001b[0m \u001b[43m        \u001b[49m\u001b[43mproxies\u001b[49m\u001b[38;5;241;43m=\u001b[39;49m\u001b[43mproxies\u001b[49m\u001b[43m,\u001b[49m\n\u001b[0;32m    974\u001b[0m \u001b[43m        \u001b[49m\u001b[43mtoken\u001b[49m\u001b[38;5;241;43m=\u001b[39;49m\u001b[43mtoken\u001b[49m\u001b[43m,\u001b[49m\n\u001b[0;32m    975\u001b[0m \u001b[43m        \u001b[49m\u001b[38;5;66;43;03m# Additional options\u001b[39;49;00m\n\u001b[0;32m    976\u001b[0m \u001b[43m        \u001b[49m\u001b[43mlocal_files_only\u001b[49m\u001b[38;5;241;43m=\u001b[39;49m\u001b[43mlocal_files_only\u001b[49m\u001b[43m,\u001b[49m\n\u001b[0;32m    977\u001b[0m \u001b[43m        \u001b[49m\u001b[43mforce_download\u001b[49m\u001b[38;5;241;43m=\u001b[39;49m\u001b[43mforce_download\u001b[49m\u001b[43m,\u001b[49m\n\u001b[0;32m    978\u001b[0m \u001b[43m    \u001b[49m\u001b[43m)\u001b[49m\n",
      "File \u001b[1;32m~\\AppData\\Local\\Programs\\Python\\Python310\\lib\\site-packages\\huggingface_hub\\file_download.py:1078\u001b[0m, in \u001b[0;36m_hf_hub_download_to_cache_dir\u001b[1;34m(cache_dir, repo_id, filename, repo_type, revision, endpoint, etag_timeout, headers, proxies, token, local_files_only, force_download)\u001b[0m\n\u001b[0;32m   1075\u001b[0m blob_path \u001b[38;5;241m=\u001b[39m os\u001b[38;5;241m.\u001b[39mpath\u001b[38;5;241m.\u001b[39mjoin(storage_folder, \u001b[38;5;124m\"\u001b[39m\u001b[38;5;124mblobs\u001b[39m\u001b[38;5;124m\"\u001b[39m, etag)\n\u001b[0;32m   1076\u001b[0m pointer_path \u001b[38;5;241m=\u001b[39m _get_pointer_path(storage_folder, commit_hash, relative_filename)\n\u001b[1;32m-> 1078\u001b[0m \u001b[43mos\u001b[49m\u001b[38;5;241;43m.\u001b[39;49m\u001b[43mmakedirs\u001b[49m\u001b[43m(\u001b[49m\u001b[43mos\u001b[49m\u001b[38;5;241;43m.\u001b[39;49m\u001b[43mpath\u001b[49m\u001b[38;5;241;43m.\u001b[39;49m\u001b[43mdirname\u001b[49m\u001b[43m(\u001b[49m\u001b[43mblob_path\u001b[49m\u001b[43m)\u001b[49m\u001b[43m,\u001b[49m\u001b[43m \u001b[49m\u001b[43mexist_ok\u001b[49m\u001b[38;5;241;43m=\u001b[39;49m\u001b[38;5;28;43;01mTrue\u001b[39;49;00m\u001b[43m)\u001b[49m\n\u001b[0;32m   1079\u001b[0m os\u001b[38;5;241m.\u001b[39mmakedirs(os\u001b[38;5;241m.\u001b[39mpath\u001b[38;5;241m.\u001b[39mdirname(pointer_path), exist_ok\u001b[38;5;241m=\u001b[39m\u001b[38;5;28;01mTrue\u001b[39;00m)\n\u001b[0;32m   1081\u001b[0m \u001b[38;5;66;03m# if passed revision is not identical to commit_hash\u001b[39;00m\n\u001b[0;32m   1082\u001b[0m \u001b[38;5;66;03m# then revision has to be a branch name or tag name.\u001b[39;00m\n\u001b[0;32m   1083\u001b[0m \u001b[38;5;66;03m# In that case store a ref.\u001b[39;00m\n",
      "File \u001b[1;32m~\\AppData\\Local\\Programs\\Python\\Python310\\lib\\os.py:215\u001b[0m, in \u001b[0;36mmakedirs\u001b[1;34m(name, mode, exist_ok)\u001b[0m\n\u001b[0;32m    213\u001b[0m \u001b[38;5;28;01mif\u001b[39;00m head \u001b[38;5;129;01mand\u001b[39;00m tail \u001b[38;5;129;01mand\u001b[39;00m \u001b[38;5;129;01mnot\u001b[39;00m path\u001b[38;5;241m.\u001b[39mexists(head):\n\u001b[0;32m    214\u001b[0m     \u001b[38;5;28;01mtry\u001b[39;00m:\n\u001b[1;32m--> 215\u001b[0m         \u001b[43mmakedirs\u001b[49m\u001b[43m(\u001b[49m\u001b[43mhead\u001b[49m\u001b[43m,\u001b[49m\u001b[43m \u001b[49m\u001b[43mexist_ok\u001b[49m\u001b[38;5;241;43m=\u001b[39;49m\u001b[43mexist_ok\u001b[49m\u001b[43m)\u001b[49m\n\u001b[0;32m    216\u001b[0m     \u001b[38;5;28;01mexcept\u001b[39;00m \u001b[38;5;167;01mFileExistsError\u001b[39;00m:\n\u001b[0;32m    217\u001b[0m         \u001b[38;5;66;03m# Defeats race condition when another thread created the path\u001b[39;00m\n\u001b[0;32m    218\u001b[0m         \u001b[38;5;28;01mpass\u001b[39;00m\n",
      "File \u001b[1;32m~\\AppData\\Local\\Programs\\Python\\Python310\\lib\\os.py:215\u001b[0m, in \u001b[0;36mmakedirs\u001b[1;34m(name, mode, exist_ok)\u001b[0m\n\u001b[0;32m    213\u001b[0m \u001b[38;5;28;01mif\u001b[39;00m head \u001b[38;5;129;01mand\u001b[39;00m tail \u001b[38;5;129;01mand\u001b[39;00m \u001b[38;5;129;01mnot\u001b[39;00m path\u001b[38;5;241m.\u001b[39mexists(head):\n\u001b[0;32m    214\u001b[0m     \u001b[38;5;28;01mtry\u001b[39;00m:\n\u001b[1;32m--> 215\u001b[0m         \u001b[43mmakedirs\u001b[49m\u001b[43m(\u001b[49m\u001b[43mhead\u001b[49m\u001b[43m,\u001b[49m\u001b[43m \u001b[49m\u001b[43mexist_ok\u001b[49m\u001b[38;5;241;43m=\u001b[39;49m\u001b[43mexist_ok\u001b[49m\u001b[43m)\u001b[49m\n\u001b[0;32m    216\u001b[0m     \u001b[38;5;28;01mexcept\u001b[39;00m \u001b[38;5;167;01mFileExistsError\u001b[39;00m:\n\u001b[0;32m    217\u001b[0m         \u001b[38;5;66;03m# Defeats race condition when another thread created the path\u001b[39;00m\n\u001b[0;32m    218\u001b[0m         \u001b[38;5;28;01mpass\u001b[39;00m\n",
      "File \u001b[1;32m~\\AppData\\Local\\Programs\\Python\\Python310\\lib\\os.py:225\u001b[0m, in \u001b[0;36mmakedirs\u001b[1;34m(name, mode, exist_ok)\u001b[0m\n\u001b[0;32m    223\u001b[0m         \u001b[38;5;28;01mreturn\u001b[39;00m\n\u001b[0;32m    224\u001b[0m \u001b[38;5;28;01mtry\u001b[39;00m:\n\u001b[1;32m--> 225\u001b[0m     \u001b[43mmkdir\u001b[49m\u001b[43m(\u001b[49m\u001b[43mname\u001b[49m\u001b[43m,\u001b[49m\u001b[43m \u001b[49m\u001b[43mmode\u001b[49m\u001b[43m)\u001b[49m\n\u001b[0;32m    226\u001b[0m \u001b[38;5;28;01mexcept\u001b[39;00m \u001b[38;5;167;01mOSError\u001b[39;00m:\n\u001b[0;32m    227\u001b[0m     \u001b[38;5;66;03m# Cannot rely on checking for EEXIST, since the operating system\u001b[39;00m\n\u001b[0;32m    228\u001b[0m     \u001b[38;5;66;03m# could give priority to other errors like EACCES or EROFS\u001b[39;00m\n\u001b[0;32m    229\u001b[0m     \u001b[38;5;28;01mif\u001b[39;00m \u001b[38;5;129;01mnot\u001b[39;00m exist_ok \u001b[38;5;129;01mor\u001b[39;00m \u001b[38;5;129;01mnot\u001b[39;00m path\u001b[38;5;241m.\u001b[39misdir(name):\n",
      "\u001b[1;31mPermissionError\u001b[0m: [WinError 5] Отказано в доступе: 'D:\\\\HuggingFace'"
     ]
    }
   ],
   "source": [
    "pipe = pipeline(\"zero-shot-classification\", model=\"MoritzLaurer/mDeBERTa-v3-base-mnli-xnli\")"
   ]
  },
  {
   "cell_type": "code",
   "execution_count": null,
   "id": "24112219-8034-4a78-aa2e-c1e52c4de537",
   "metadata": {},
   "outputs": [],
   "source": []
  },
  {
   "cell_type": "code",
   "execution_count": null,
   "id": "80db0d83-b65f-4bf3-8642-a53a11e6e995",
   "metadata": {},
   "outputs": [],
   "source": []
  },
  {
   "cell_type": "code",
   "execution_count": null,
   "id": "4957a2b8-748d-4cb0-bcf9-1554576b400f",
   "metadata": {},
   "outputs": [],
   "source": []
  },
  {
   "cell_type": "code",
   "execution_count": null,
   "id": "32089aa0-2f07-43dd-aa0b-4e65ee0c15db",
   "metadata": {},
   "outputs": [],
   "source": []
  },
  {
   "cell_type": "code",
   "execution_count": null,
   "id": "7ce97f31-32dc-43a5-9325-f0748e4cd8f1",
   "metadata": {},
   "outputs": [],
   "source": []
  },
  {
   "cell_type": "code",
   "execution_count": null,
   "id": "520c9fda-08ab-4e76-b5bb-518aa6b70846",
   "metadata": {},
   "outputs": [],
   "source": []
  },
  {
   "cell_type": "code",
   "execution_count": null,
   "id": "6c8af414-60cd-4ace-9ef1-fb7c9d68f878",
   "metadata": {},
   "outputs": [],
   "source": []
  },
  {
   "cell_type": "code",
   "execution_count": null,
   "id": "68136852-4b34-4402-af11-b44c7b6a0e66",
   "metadata": {},
   "outputs": [],
   "source": []
  },
  {
   "cell_type": "code",
   "execution_count": null,
   "id": "9b196ade-4738-45cf-b396-cdd49fd07600",
   "metadata": {},
   "outputs": [],
   "source": []
  }
 ],
 "metadata": {
  "kernelspec": {
   "display_name": "Python 3 (ipykernel)",
   "language": "python",
   "name": "python3"
  },
  "language_info": {
   "codemirror_mode": {
    "name": "ipython",
    "version": 3
   },
   "file_extension": ".py",
   "mimetype": "text/x-python",
   "name": "python",
   "nbconvert_exporter": "python",
   "pygments_lexer": "ipython3",
   "version": "3.10.7"
  }
 },
 "nbformat": 4,
 "nbformat_minor": 5
}
