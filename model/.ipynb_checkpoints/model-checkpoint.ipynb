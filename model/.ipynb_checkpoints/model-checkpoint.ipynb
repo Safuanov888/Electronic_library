{
 "cells": [
  {
   "cell_type": "markdown",
   "id": "41582564-fa51-4ca6-b978-65b365e8fd07",
   "metadata": {},
   "source": [
    "# Методы первой необходмости"
   ]
  },
  {
   "cell_type": "code",
   "execution_count": 2,
   "id": "ba6a9c0c-6758-4c9b-947e-520e47859d13",
   "metadata": {},
   "outputs": [],
   "source": [
    "import os\n",
    "os.environ['HF_HOME'] = 'D:\\\\HuggingFace'\n",
    "os.environ['TRANSFORMERS_CACHE'] = os.environ['HF_HOME']\n",
    "os.environ['HUGGINGFACE_HUB_CACHE'] = os.environ['HF_HOME'] "
   ]
  },
  {
   "cell_type": "code",
   "execution_count": 13,
   "id": "9a76d396-7bb2-488b-aade-6cccfb9853a9",
   "metadata": {},
   "outputs": [],
   "source": [
    "from warnings import filterwarnings\n",
    "filterwarnings('ignore')\n",
    "\n",
    "\n",
    "import pandas as pd\n",
    "import numpy as np\n",
    "import matplotlib.pyplot as plt\n",
    "import seaborn as sns\n",
    "import torch\n",
    "from transformers import pipeline\n",
    "import re\n",
    "\n",
    "from sklearn.preprocessing import StandardScaler\n",
    "from sklearn.model_selection import train_test_split\n",
    "\n",
    "sns.set_style('darkgrid')\n",
    "device = 'cuda' if torch.cuda.is_available() else 'cpu'"
   ]
  },
  {
   "cell_type": "markdown",
   "id": "5f55b2d8-ac8a-4fce-8e7f-dfd1dee2cd6e",
   "metadata": {},
   "source": [
    "# Предобработка текстов в pdf и создание датасета"
   ]
  },
  {
   "cell_type": "code",
   "execution_count": 11,
   "id": "2d50c5f1-b054-437a-843c-901cd15762b0",
   "metadata": {},
   "outputs": [],
   "source": [
    "import PyPDF2"
   ]
  },
  {
   "cell_type": "code",
   "execution_count": 12,
   "id": "72e3a1f5-d53c-45ac-a661-d358e4dc8634",
   "metadata": {},
   "outputs": [],
   "source": [
    "clean_data = pd.DataFrame({\"Informatics\": [], \"Art\": [], \"Space\": [], \"Sport\": [], \"Chemical\": []})"
   ]
  },
  {
   "cell_type": "code",
   "execution_count": 166,
   "id": "ec48dea9-d7e1-432f-8a89-e1a4e0222c4d",
   "metadata": {},
   "outputs": [],
   "source": [
    "import pathlib\n",
    "\n",
    "#books = pathlib.Path(\"D:/ПРОГА/Проектики/Github/Electronic_library/dataset/Образование\")\n",
    "#books = pathlib.Path(\"D:/ПРОГА/Проектики/Github/Electronic_library/dataset/Спорт\")\n",
    "#books = pathlib.Path(\"D:/ПРОГА/Проектики/Github/Electronic_library/dataset/Космос\")\n",
    "#books = pathlib.Path(\"D:/ПРОГА/Проектики/Github/Electronic_library/dataset/Химия\")\n",
    "books = pathlib.Path(\"D:/ПРОГА/Проектики/Github/Electronic_library/dataset/Искусствоведение\")\n",
    "files_to_process = []\n",
    "for book in books.iterdir():\n",
    "    files_to_process.append(str(book))"
   ]
  },
  {
   "cell_type": "code",
   "execution_count": 167,
   "id": "8f89cb81-1ac5-4919-b006-003d43ca9c5a",
   "metadata": {},
   "outputs": [
    {
     "data": {
      "text/plain": [
       "['D:\\\\ПРОГА\\\\Проектики\\\\Github\\\\Electronic_library\\\\dataset\\\\Искусствоведение\\\\1.pdf',\n",
       " 'D:\\\\ПРОГА\\\\Проектики\\\\Github\\\\Electronic_library\\\\dataset\\\\Искусствоведение\\\\10.pdf',\n",
       " 'D:\\\\ПРОГА\\\\Проектики\\\\Github\\\\Electronic_library\\\\dataset\\\\Искусствоведение\\\\11.pdf',\n",
       " 'D:\\\\ПРОГА\\\\Проектики\\\\Github\\\\Electronic_library\\\\dataset\\\\Искусствоведение\\\\12.pdf',\n",
       " 'D:\\\\ПРОГА\\\\Проектики\\\\Github\\\\Electronic_library\\\\dataset\\\\Искусствоведение\\\\13.pdf',\n",
       " 'D:\\\\ПРОГА\\\\Проектики\\\\Github\\\\Electronic_library\\\\dataset\\\\Искусствоведение\\\\14.pdf',\n",
       " 'D:\\\\ПРОГА\\\\Проектики\\\\Github\\\\Electronic_library\\\\dataset\\\\Искусствоведение\\\\15.pdf',\n",
       " 'D:\\\\ПРОГА\\\\Проектики\\\\Github\\\\Electronic_library\\\\dataset\\\\Искусствоведение\\\\16.pdf',\n",
       " 'D:\\\\ПРОГА\\\\Проектики\\\\Github\\\\Electronic_library\\\\dataset\\\\Искусствоведение\\\\17.pdf',\n",
       " 'D:\\\\ПРОГА\\\\Проектики\\\\Github\\\\Electronic_library\\\\dataset\\\\Искусствоведение\\\\18.pdf',\n",
       " 'D:\\\\ПРОГА\\\\Проектики\\\\Github\\\\Electronic_library\\\\dataset\\\\Искусствоведение\\\\19.pdf',\n",
       " 'D:\\\\ПРОГА\\\\Проектики\\\\Github\\\\Electronic_library\\\\dataset\\\\Искусствоведение\\\\2.pdf',\n",
       " 'D:\\\\ПРОГА\\\\Проектики\\\\Github\\\\Electronic_library\\\\dataset\\\\Искусствоведение\\\\20.pdf',\n",
       " 'D:\\\\ПРОГА\\\\Проектики\\\\Github\\\\Electronic_library\\\\dataset\\\\Искусствоведение\\\\3.pdf',\n",
       " 'D:\\\\ПРОГА\\\\Проектики\\\\Github\\\\Electronic_library\\\\dataset\\\\Искусствоведение\\\\4.pdf',\n",
       " 'D:\\\\ПРОГА\\\\Проектики\\\\Github\\\\Electronic_library\\\\dataset\\\\Искусствоведение\\\\5.pdf',\n",
       " 'D:\\\\ПРОГА\\\\Проектики\\\\Github\\\\Electronic_library\\\\dataset\\\\Искусствоведение\\\\6.pdf',\n",
       " 'D:\\\\ПРОГА\\\\Проектики\\\\Github\\\\Electronic_library\\\\dataset\\\\Искусствоведение\\\\7.pdf',\n",
       " 'D:\\\\ПРОГА\\\\Проектики\\\\Github\\\\Electronic_library\\\\dataset\\\\Искусствоведение\\\\8.pdf',\n",
       " 'D:\\\\ПРОГА\\\\Проектики\\\\Github\\\\Electronic_library\\\\dataset\\\\Искусствоведение\\\\9.pdf']"
      ]
     },
     "execution_count": 167,
     "metadata": {},
     "output_type": "execute_result"
    }
   ],
   "source": [
    "files_to_process"
   ]
  },
  {
   "cell_type": "code",
   "execution_count": 103,
   "id": "310a2cda-0ce2-4de1-89e3-650447b1929f",
   "metadata": {},
   "outputs": [],
   "source": [
    "with open(files_to_process[0], \"rb\") as f:\n",
    "    reader = PyPDF2.PdfReader(f)\n",
    "    text = [page.extract_text() for page in reader.pages]"
   ]
  },
  {
   "cell_type": "code",
   "execution_count": 174,
   "id": "c3b55acb-3940-4de4-a4cf-4f2fb42a4152",
   "metadata": {},
   "outputs": [],
   "source": [
    "def process_info(file):\n",
    "    with open(file, \"rb\") as f:\n",
    "        reader = PyPDF2.PdfReader(f)\n",
    "        text = ''.join([page.extract_text() for page in reader.pages])\n",
    "    # Служебная информация\n",
    "    text = re.sub(r'ISSN\\s+\\d{4}-\\d{3,4}[^\\n]*', '', text)\n",
    "    text = re.sub(r'\\d{4};\\d{2}\\(\\d+\\):\\d+–\\d+', '', text)\n",
    "\n",
    "    # Авторы\n",
    "    text = re.sub(r'[А-ЯЁ][а-яё]+\\s+[А-ЯЁ][\\.\\s]+\\s*[А-ЯЁ][\\.\\s]*', '', text)\n",
    "    text = re.sub(r'[А-ЯЁ][а-яё]+\\s+[А-ЯЁ][а-яё]+\\s+[А-ЯЁ][\\.\\s]+\\s*[А-ЯЁ][\\.\\s]*', '', text)\n",
    "    text = re.sub(r'\\d+[\\s\\w\\.,–-]+(университет|институт|академия|центр)[^\\n]*', '', text)\n",
    "\n",
    "    # Сноски в квадратных скобках\n",
    "    text = re.sub(r'\\[\\d+\\]', '', text)  # [1], [2]\n",
    "    text = re.sub(r'\\[\\d+[,-]\\d+\\]', '', text)  # [1-3], [4,5]\n",
    "    text = re.sub(r'\\[[A-Za-z]+\\d*\\]', '', text)  # [A1], [B]\n",
    "    \n",
    "    # email\n",
    "    text = re.sub(r'\\S+@\\S+', '', text)\n",
    "    \n",
    "    # английские разделы \n",
    "    text = re.sub(r'Abstract[^\\n]*[\\s\\S]*?(?=\\n[А-ЯЁ]|$)', '', text)\n",
    "    text = re.sub(r'Keywords[^\\n]*[\\s\\S]*?(?=\\n[А-ЯЁ]|$)', '', text)\n",
    "    text = re.sub(r'For citation[^\\n]*[\\s\\S]*?(?=\\n[А-ЯЁ]|$)', '', text)\n",
    "    \n",
    "    # ссылки\n",
    "    text = re.sub(r'http[s]?://(?:[a-zA-Z]|[0-9]|[$-_@.&+]|[!*\\\\(\\\\),]|(?:%[0-9a-fA-F][0-9a-fA-F]))+', '', text)\n",
    "    text = re.sub(r'DOI:\\s*\\S+', '', text)\n",
    "    \n",
    "    # библиография\n",
    "    text = re.sub(r'Список\\s+источников[\\s\\S]*', '', text)\n",
    "    text = re.sub(r'References[\\s\\S]*', '', text)\n",
    "    \n",
    "    # спец.символы\n",
    "    text = text.replace('\\xa0', ' ').replace('•', '')\n",
    "    text = re.sub(r'-\\s+', '', text)  \n",
    "    text = re.sub(r'\\s+', ' ', text).strip()\n",
    "    text = re.sub(r'•\\s*\\n', '', text)\n",
    "    \n",
    "    # оставшиеся английские фрагменты\n",
    "    text = re.sub(r'(?:[A-Za-z-]+\\s){3,}[A-Za-z-]*', '', text)\n",
    "    \n",
    "    return text"
   ]
  },
  {
   "cell_type": "markdown",
   "id": "b076032c-7f0f-4854-9e99-1d186ccb7e40",
   "metadata": {},
   "source": [
    "## Тексты образования"
   ]
  },
  {
   "cell_type": "code",
   "execution_count": 175,
   "id": "f3ec6b87-4590-40c4-8d12-21c4950bbb48",
   "metadata": {},
   "outputs": [],
   "source": [
    "books = pathlib.Path(\"D:/ПРОГА/Проектики/Github/Electronic_library/dataset/Образование\")\n",
    "files_to_process = []\n",
    "for book in books.iterdir():\n",
    "    files_to_process.append(str(book))\n",
    "\n",
    "clean_files = []\n",
    "for file in files_to_process:\n",
    "    clean_files.append(process_info(file))\n",
    "\n",
    "clean_data['Informatics'] = clean_files"
   ]
  },
  {
   "cell_type": "markdown",
   "id": "1362c725-ee26-4472-b634-08347bf25a8f",
   "metadata": {},
   "source": [
    "## Тексты спорта"
   ]
  },
  {
   "cell_type": "code",
   "execution_count": 178,
   "id": "d2cf228b-383e-483d-af3f-37e6b9446fb3",
   "metadata": {},
   "outputs": [],
   "source": [
    "books = pathlib.Path(\"D:/ПРОГА/Проектики/Github/Electronic_library/dataset/Спорт\")\n",
    "files_to_process = []\n",
    "for book in books.iterdir():\n",
    "    files_to_process.append(str(book))\n",
    "\n",
    "clean_files = []\n",
    "for file in files_to_process:\n",
    "    clean_files.append(process_info(file))\n",
    "\n",
    "clean_data['Sport'] = clean_files"
   ]
  },
  {
   "cell_type": "markdown",
   "id": "c4d3261a-f17d-46a6-a0de-42e78cf63fc7",
   "metadata": {},
   "source": [
    "## Тексты космоса"
   ]
  },
  {
   "cell_type": "code",
   "execution_count": 179,
   "id": "59ae3ba5-c5af-4b34-a1f9-c2a26817f73d",
   "metadata": {},
   "outputs": [],
   "source": [
    "books = pathlib.Path(\"D:/ПРОГА/Проектики/Github/Electronic_library/dataset/Космос\")\n",
    "files_to_process = []\n",
    "for book in books.iterdir():\n",
    "    files_to_process.append(str(book))\n",
    "\n",
    "clean_files = []\n",
    "for file in files_to_process:\n",
    "    clean_files.append(process_info(file))\n",
    "\n",
    "clean_data['Space'] = clean_files"
   ]
  },
  {
   "cell_type": "markdown",
   "id": "30880daf-c694-4720-ac31-5a5812f0ac2e",
   "metadata": {},
   "source": [
    "## Тексты химии"
   ]
  },
  {
   "cell_type": "code",
   "execution_count": 180,
   "id": "5e5ff38b-6f7d-4e6b-b854-5bc8c7c9ad2b",
   "metadata": {},
   "outputs": [],
   "source": [
    "books = pathlib.Path(\"D:/ПРОГА/Проектики/Github/Electronic_library/dataset/Химия\")\n",
    "files_to_process = []\n",
    "for book in books.iterdir():\n",
    "    files_to_process.append(str(book))\n",
    "\n",
    "clean_files = []\n",
    "for file in files_to_process:\n",
    "    clean_files.append(process_info(file))\n",
    "\n",
    "clean_data['Chemical'] = clean_files"
   ]
  },
  {
   "cell_type": "markdown",
   "id": "cb4d75d8-54b1-4231-b9a4-3645ae5b0db8",
   "metadata": {},
   "source": [
    "## Тексты искусствоведения"
   ]
  },
  {
   "cell_type": "code",
   "execution_count": 181,
   "id": "245d800f-8672-4bb2-bfb2-db75fab0ef7c",
   "metadata": {},
   "outputs": [],
   "source": [
    "books = pathlib.Path(\"D:/ПРОГА/Проектики/Github/Electronic_library/dataset/Искусствоведение\")\n",
    "files_to_process = []\n",
    "for book in books.iterdir():\n",
    "    files_to_process.append(str(book))\n",
    "\n",
    "clean_files = []\n",
    "for file in files_to_process:\n",
    "    clean_files.append(process_info(file))\n",
    "\n",
    "clean_data['Art'] = clean_files"
   ]
  },
  {
   "cell_type": "code",
   "execution_count": 188,
   "id": "9a4e7c3c-4226-488a-9b85-2671a19204d2",
   "metadata": {},
   "outputs": [
    {
     "data": {
      "text/plain": [
       "(20, 5)"
      ]
     },
     "execution_count": 188,
     "metadata": {},
     "output_type": "execute_result"
    }
   ],
   "source": [
    "clean_data.shape"
   ]
  },
  {
   "cell_type": "markdown",
   "id": "7c6022e3-b30c-47ca-886d-f3e609991eba",
   "metadata": {},
   "source": [
    "## Создание датасета"
   ]
  },
  {
   "cell_type": "code",
   "execution_count": 185,
   "id": "177b2d15-0a2e-4581-9cf4-466f46a69b8d",
   "metadata": {},
   "outputs": [],
   "source": [
    "clean_data.to_csv('clean_data.csv', sep=',', index=False, encoding='utf-8')"
   ]
  },
  {
   "cell_type": "code",
   "execution_count": 186,
   "id": "eaabe204-3e3f-49e7-b662-8ddbff2aa86d",
   "metadata": {},
   "outputs": [],
   "source": [
    "data = pd.read_csv('clean_data.csv')"
   ]
  },
  {
   "cell_type": "code",
   "execution_count": 187,
   "id": "42e45ce0-1f47-4cd6-a774-707c5f8242a8",
   "metadata": {},
   "outputs": [
    {
     "data": {
      "text/html": [
       "<div>\n",
       "<style scoped>\n",
       "    .dataframe tbody tr th:only-of-type {\n",
       "        vertical-align: middle;\n",
       "    }\n",
       "\n",
       "    .dataframe tbody tr th {\n",
       "        vertical-align: top;\n",
       "    }\n",
       "\n",
       "    .dataframe thead th {\n",
       "        text-align: right;\n",
       "    }\n",
       "</style>\n",
       "<table border=\"1\" class=\"dataframe\">\n",
       "  <thead>\n",
       "    <tr style=\"text-align: right;\">\n",
       "      <th></th>\n",
       "      <th>Informatics</th>\n",
       "      <th>Art</th>\n",
       "      <th>Space</th>\n",
       "      <th>Sport</th>\n",
       "      <th>Chemical</th>\n",
       "    </tr>\n",
       "  </thead>\n",
       "  <tbody>\n",
       "    <tr>\n",
       "      <th>0</th>\n",
       "      <td>ПЕДАГОГИЧЕСКИЙ ОПЫТ / PEDAGOGICAL EXPERIENCE г...</td>\n",
       "      <td>8 РОССИЙСКИХ ЦЕННОСТЕЙ В КОНКРЕТНОИСТОРИЧЕСКОМ...</td>\n",
       "      <td>Солнечно -земная физика. 2024. Т. 10. № 4 Soln...</td>\n",
       "      <td>Ученые записки университета имени П.Ф. Лесгафт...</td>\n",
       "      <td>ХИМИЯ РАСТИТЕЛЬНОГО СЫРЬЯ . 2025 . №1. С. 106–...</td>\n",
       "    </tr>\n",
       "    <tr>\n",
       "      <th>1</th>\n",
       "      <td>ИНФОРМАТИЗАЦИЯ ОБРАЗОВАНИЯ / г. Москва, Россия...</td>\n",
       "      <td>110 БАУХАУСА И ИХ ВЛИЯНИЕ НА ТЕОРИЮ АРХИТЕКТУР...</td>\n",
       "      <td>Солнечно -земная физика. 2025. Т. 11. № 1 Soln...</td>\n",
       "      <td>Ученые записки университета имени П.Ф. Лесгафт...</td>\n",
       "      <td>ХИМИЯ РАСТИТЕЛЬНОГО СЫРЬЯ . 2025. №1. С. 188–1...</td>\n",
       "    </tr>\n",
       "    <tr>\n",
       "      <th>2</th>\n",
       "      <td>ИНФОРМАТИЗАЦИЯ ОБРАЗОВАНИЯ / Аннотация В повыш...</td>\n",
       "      <td>117 ⇒ Художественная культура. ЭстетикаТ ЕАТРА...</td>\n",
       "      <td>Солнечно -земная физика. 2025. Т. 11. № 1 Soln...</td>\n",
       "      <td>Ученые записки университета имени П.Ф. Лесгафт...</td>\n",
       "      <td>ХИМИЯ РАСТИТЕЛЬНОГО СЫРЬЯ . 2025. №1. С. 197–2...</td>\n",
       "    </tr>\n",
       "    <tr>\n",
       "      <th>3</th>\n",
       "      <td>ИНФОРМАТИЗАЦИЯ ОБРАЗОВАНИЯ / Аннотация В стать...</td>\n",
       "      <td>124 ДРАМАТУРГИИ ТЕЛЕСЕРИАЛА УДК 801 Химки, Мос...</td>\n",
       "      <td>Солнечно -земная физика. 2025. Т. 11. № 1 Soln...</td>\n",
       "      <td>Ученые записки университета имени П.Ф. Лесгафт...</td>\n",
       "      <td>ХИМИЯ РАСТИТЕЛЬНОГО СЫРЬЯ . 2025. №1. С. 208–2...</td>\n",
       "    </tr>\n",
       "    <tr>\n",
       "      <th>4</th>\n",
       "      <td>ПЕДАГОГИЧЕСКИЙ ОПЫТ / PEDAGOGICAL EXPERIENCE А...</td>\n",
       "      <td>132 В ТЕАТРАЛЬНЫХ ОПЫТАХ А. ВАСИЛЬЕВА УДК 740 ...</td>\n",
       "      <td>Солнечно -земная физика. 2025. Т. 11. № 1 Soln...</td>\n",
       "      <td>Ученые записки университета имени П.Ф. Лесгафт...</td>\n",
       "      <td>ХИМИЯ РАСТИТЕЛЬНОГО СЫРЬЯ . 2025. №1. С. 215–2...</td>\n",
       "    </tr>\n",
       "  </tbody>\n",
       "</table>\n",
       "</div>"
      ],
      "text/plain": [
       "                                         Informatics  \\\n",
       "0  ПЕДАГОГИЧЕСКИЙ ОПЫТ / PEDAGOGICAL EXPERIENCE г...   \n",
       "1  ИНФОРМАТИЗАЦИЯ ОБРАЗОВАНИЯ / г. Москва, Россия...   \n",
       "2  ИНФОРМАТИЗАЦИЯ ОБРАЗОВАНИЯ / Аннотация В повыш...   \n",
       "3  ИНФОРМАТИЗАЦИЯ ОБРАЗОВАНИЯ / Аннотация В стать...   \n",
       "4  ПЕДАГОГИЧЕСКИЙ ОПЫТ / PEDAGOGICAL EXPERIENCE А...   \n",
       "\n",
       "                                                 Art  \\\n",
       "0  8 РОССИЙСКИХ ЦЕННОСТЕЙ В КОНКРЕТНОИСТОРИЧЕСКОМ...   \n",
       "1  110 БАУХАУСА И ИХ ВЛИЯНИЕ НА ТЕОРИЮ АРХИТЕКТУР...   \n",
       "2  117 ⇒ Художественная культура. ЭстетикаТ ЕАТРА...   \n",
       "3  124 ДРАМАТУРГИИ ТЕЛЕСЕРИАЛА УДК 801 Химки, Мос...   \n",
       "4  132 В ТЕАТРАЛЬНЫХ ОПЫТАХ А. ВАСИЛЬЕВА УДК 740 ...   \n",
       "\n",
       "                                               Space  \\\n",
       "0  Солнечно -земная физика. 2024. Т. 10. № 4 Soln...   \n",
       "1  Солнечно -земная физика. 2025. Т. 11. № 1 Soln...   \n",
       "2  Солнечно -земная физика. 2025. Т. 11. № 1 Soln...   \n",
       "3  Солнечно -земная физика. 2025. Т. 11. № 1 Soln...   \n",
       "4  Солнечно -земная физика. 2025. Т. 11. № 1 Soln...   \n",
       "\n",
       "                                               Sport  \\\n",
       "0  Ученые записки университета имени П.Ф. Лесгафт...   \n",
       "1  Ученые записки университета имени П.Ф. Лесгафт...   \n",
       "2  Ученые записки университета имени П.Ф. Лесгафт...   \n",
       "3  Ученые записки университета имени П.Ф. Лесгафт...   \n",
       "4  Ученые записки университета имени П.Ф. Лесгафт...   \n",
       "\n",
       "                                            Chemical  \n",
       "0  ХИМИЯ РАСТИТЕЛЬНОГО СЫРЬЯ . 2025 . №1. С. 106–...  \n",
       "1  ХИМИЯ РАСТИТЕЛЬНОГО СЫРЬЯ . 2025. №1. С. 188–1...  \n",
       "2  ХИМИЯ РАСТИТЕЛЬНОГО СЫРЬЯ . 2025. №1. С. 197–2...  \n",
       "3  ХИМИЯ РАСТИТЕЛЬНОГО СЫРЬЯ . 2025. №1. С. 208–2...  \n",
       "4  ХИМИЯ РАСТИТЕЛЬНОГО СЫРЬЯ . 2025. №1. С. 215–2...  "
      ]
     },
     "execution_count": 187,
     "metadata": {},
     "output_type": "execute_result"
    }
   ],
   "source": [
    "data.head()"
   ]
  },
  {
   "cell_type": "code",
   "execution_count": 190,
   "id": "c42182b2-f570-4078-8e5b-3edbeb530103",
   "metadata": {},
   "outputs": [],
   "source": [
    "#dcascdsa"
   ]
  },
  {
   "cell_type": "code",
   "execution_count": null,
   "id": "24112219-8034-4a78-aa2e-c1e52c4de537",
   "metadata": {},
   "outputs": [],
   "source": []
  },
  {
   "cell_type": "code",
   "execution_count": null,
   "id": "80db0d83-b65f-4bf3-8642-a53a11e6e995",
   "metadata": {},
   "outputs": [],
   "source": []
  },
  {
   "cell_type": "code",
   "execution_count": null,
   "id": "4957a2b8-748d-4cb0-bcf9-1554576b400f",
   "metadata": {},
   "outputs": [],
   "source": []
  },
  {
   "cell_type": "code",
   "execution_count": null,
   "id": "32089aa0-2f07-43dd-aa0b-4e65ee0c15db",
   "metadata": {},
   "outputs": [],
   "source": []
  },
  {
   "cell_type": "code",
   "execution_count": null,
   "id": "7ce97f31-32dc-43a5-9325-f0748e4cd8f1",
   "metadata": {},
   "outputs": [],
   "source": []
  },
  {
   "cell_type": "code",
   "execution_count": null,
   "id": "520c9fda-08ab-4e76-b5bb-518aa6b70846",
   "metadata": {},
   "outputs": [],
   "source": []
  },
  {
   "cell_type": "code",
   "execution_count": null,
   "id": "6c8af414-60cd-4ace-9ef1-fb7c9d68f878",
   "metadata": {},
   "outputs": [],
   "source": []
  },
  {
   "cell_type": "code",
   "execution_count": null,
   "id": "68136852-4b34-4402-af11-b44c7b6a0e66",
   "metadata": {},
   "outputs": [],
   "source": []
  },
  {
   "cell_type": "code",
   "execution_count": null,
   "id": "9b196ade-4738-45cf-b396-cdd49fd07600",
   "metadata": {},
   "outputs": [],
   "source": []
  }
 ],
 "metadata": {
  "kernelspec": {
   "display_name": "Python 3 (ipykernel)",
   "language": "python",
   "name": "python3"
  },
  "language_info": {
   "codemirror_mode": {
    "name": "ipython",
    "version": 3
   },
   "file_extension": ".py",
   "mimetype": "text/x-python",
   "name": "python",
   "nbconvert_exporter": "python",
   "pygments_lexer": "ipython3",
   "version": "3.10.7"
  }
 },
 "nbformat": 4,
 "nbformat_minor": 5
}
