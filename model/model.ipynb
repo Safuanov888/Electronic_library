{
 "cells": [
  {
   "cell_type": "markdown",
   "id": "41582564-fa51-4ca6-b978-65b365e8fd07",
   "metadata": {},
   "source": [
    "# Методы первой необходимости"
   ]
  },
  {
   "cell_type": "code",
   "execution_count": 1,
   "id": "ba6a9c0c-6758-4c9b-947e-520e47859d13",
   "metadata": {},
   "outputs": [],
   "source": [
    "import os\n",
    "os.environ['HF_HOME'] = 'D:\\\\HuggingFace'\n",
    "os.environ['TRANSFORMERS_CACHE'] = os.environ['HF_HOME']\n",
    "os.environ['HUGGINGFACE_HUB_CACHE'] = os.environ['HF_HOME'] "
   ]
  },
  {
   "cell_type": "code",
   "execution_count": 2,
   "id": "9a76d396-7bb2-488b-aade-6cccfb9853a9",
   "metadata": {},
   "outputs": [],
   "source": [
    "from warnings import filterwarnings\n",
    "filterwarnings('ignore')\n",
    "\n",
    "\n",
    "import pandas as pd\n",
    "import numpy as np\n",
    "import matplotlib.pyplot as plt\n",
    "import seaborn as sns\n",
    "import torch\n",
    "from transformers import pipeline\n",
    "import re\n",
    "\n",
    "from sklearn.preprocessing import StandardScaler\n",
    "from sklearn.model_selection import train_test_split\n",
    "\n",
    "sns.set_style('darkgrid')\n",
    "device = 'cuda' if torch.cuda.is_available() else 'cpu'"
   ]
  },
  {
   "cell_type": "markdown",
   "id": "5f55b2d8-ac8a-4fce-8e7f-dfd1dee2cd6e",
   "metadata": {},
   "source": [
    "# Предобработка текстов в pdf и создание датасета"
   ]
  },
  {
   "cell_type": "code",
   "execution_count": 3,
   "id": "2d50c5f1-b054-437a-843c-901cd15762b0",
   "metadata": {},
   "outputs": [],
   "source": [
    "import PyPDF2\n",
    "import pathlib"
   ]
  },
  {
   "cell_type": "code",
   "execution_count": 4,
   "id": "72e3a1f5-d53c-45ac-a661-d358e4dc8634",
   "metadata": {},
   "outputs": [],
   "source": [
    "clean_data = pd.DataFrame({\"Education\": [], \"Art\": [], \"Space\": [], \"Sport\": [], \"Chemical\": []})"
   ]
  },
  {
   "cell_type": "code",
   "execution_count": 27,
   "id": "c3b55acb-3940-4de4-a4cf-4f2fb42a4152",
   "metadata": {},
   "outputs": [],
   "source": [
    "def process_info(file):\n",
    "    with open(file, \"rb\") as f:\n",
    "        reader = PyPDF2.PdfReader(f)\n",
    "        text = ''.join([page.extract_text() for page in reader.pages])\n",
    "    # Служебная информация\n",
    "    text = re.sub(r'ISSN\\s+\\d{4}-\\d{3,4}[^\\n]*', '', text)\n",
    "    text = re.sub(r'\\d{4};\\d{2}\\(\\d+\\):\\d+–\\d+', '', text)\n",
    "\n",
    "    # Авторы\n",
    "    text = re.sub(r'[А-ЯЁ][а-яё]+\\s+[А-ЯЁ][\\.\\s]+\\s*[А-ЯЁ][\\.\\s]*', '', text)\n",
    "    text = re.sub(r'[А-ЯЁ][а-яё]+\\s+[А-ЯЁ][а-яё]+\\s+[А-ЯЁ][\\.\\s]+\\s*[А-ЯЁ][\\.\\s]*', '', text)\n",
    "    text = re.sub(r'\\d+[\\s\\w\\.,–-]+(университет|институт|академия|центр)[^\\n]*', '', text)\n",
    "\n",
    "    # Сноски в квадратных скобках\n",
    "    text = re.sub(r'\\[\\d+\\]', '', text)  # [1], [2]\n",
    "    text = re.sub(r'\\[\\d+[,-]\\d+\\]', '', text)  # [1-3], [4,5]\n",
    "    text = re.sub(r'\\[[A-Za-z]+\\d*\\]', '', text)  # [A1], [B]\n",
    "    \n",
    "    # email\n",
    "    text = re.sub(r'\\S+@\\S+', '', text)\n",
    "    \n",
    "    # английские разделы \n",
    "    text = re.sub(r'Abstract[^\\n]*[\\s\\S]*?(?=\\n[А-ЯЁ]|$)', '', text)\n",
    "    text = re.sub(r'Keywords[^\\n]*[\\s\\S]*?(?=\\n[А-ЯЁ]|$)', '', text)\n",
    "    text = re.sub(r'For citation[^\\n]*[\\s\\S]*?(?=\\n[А-ЯЁ]|$)', '', text)\n",
    "    \n",
    "    # ссылки\n",
    "    text = re.sub(r'http[s]?://(?:[a-zA-Z]|[0-9]|[$-_@.&+]|[!*\\\\(\\\\),]|(?:%[0-9a-fA-F][0-9a-fA-F]))+', '', text)\n",
    "    text = re.sub(r'DOI:\\s*\\S+', '', text)\n",
    "    \n",
    "    # библиография\n",
    "    text = re.sub(r'Список\\s+источников[\\s\\S]*', '', text)\n",
    "    text = re.sub(r'References[\\s\\S]*', '', text)\n",
    "    \n",
    "    # спец.символы\n",
    "    text = text.replace('\\xa0', ' ').replace('•', '')\n",
    "    text = re.sub(r'-\\s+', '', text)  \n",
    "    text = re.sub(r'\\s+', ' ', text).strip()\n",
    "    text = re.sub(r'•\\s*\\n', '', text)\n",
    "    \n",
    "    # оставшиеся английские фрагменты\n",
    "    text = re.sub(r'(?:[A-Za-z-]+\\s){3,}[A-Za-z-]*', '', text)\n",
    "    \n",
    "    return text"
   ]
  },
  {
   "cell_type": "markdown",
   "id": "b076032c-7f0f-4854-9e99-1d186ccb7e40",
   "metadata": {},
   "source": [
    "## Тексты образования"
   ]
  },
  {
   "cell_type": "code",
   "execution_count": 28,
   "id": "f3ec6b87-4590-40c4-8d12-21c4950bbb48",
   "metadata": {},
   "outputs": [],
   "source": [
    "books = pathlib.Path(\"D:/ПРОГА/Проектики/Github/Electronic_library/dataset/Образование\")\n",
    "files_to_process = []\n",
    "for book in books.iterdir():\n",
    "    files_to_process.append(str(book))\n",
    "\n",
    "clean_files = []\n",
    "for file in files_to_process:\n",
    "    clean_files.append(process_info(file))\n",
    "\n",
    "clean_data['Education'] = clean_files"
   ]
  },
  {
   "cell_type": "markdown",
   "id": "1362c725-ee26-4472-b634-08347bf25a8f",
   "metadata": {},
   "source": [
    "## Тексты спорта"
   ]
  },
  {
   "cell_type": "code",
   "execution_count": 29,
   "id": "d2cf228b-383e-483d-af3f-37e6b9446fb3",
   "metadata": {},
   "outputs": [],
   "source": [
    "books = pathlib.Path(\"D:/ПРОГА/Проектики/Github/Electronic_library/dataset/Спорт\")\n",
    "files_to_process = []\n",
    "for book in books.iterdir():\n",
    "    files_to_process.append(str(book))\n",
    "\n",
    "clean_files = []\n",
    "for file in files_to_process:\n",
    "    clean_files.append(process_info(file))\n",
    "\n",
    "clean_data['Sport'] = clean_files"
   ]
  },
  {
   "cell_type": "markdown",
   "id": "c4d3261a-f17d-46a6-a0de-42e78cf63fc7",
   "metadata": {},
   "source": [
    "## Тексты космоса"
   ]
  },
  {
   "cell_type": "code",
   "execution_count": 30,
   "id": "59ae3ba5-c5af-4b34-a1f9-c2a26817f73d",
   "metadata": {},
   "outputs": [],
   "source": [
    "books = pathlib.Path(\"D:/ПРОГА/Проектики/Github/Electronic_library/dataset/Космос\")\n",
    "files_to_process = []\n",
    "for book in books.iterdir():\n",
    "    files_to_process.append(str(book))\n",
    "\n",
    "clean_files = []\n",
    "for file in files_to_process:\n",
    "    clean_files.append(process_info(file))\n",
    "\n",
    "clean_data['Space'] = clean_files"
   ]
  },
  {
   "cell_type": "markdown",
   "id": "30880daf-c694-4720-ac31-5a5812f0ac2e",
   "metadata": {},
   "source": [
    "## Тексты химии"
   ]
  },
  {
   "cell_type": "code",
   "execution_count": 31,
   "id": "5e5ff38b-6f7d-4e6b-b854-5bc8c7c9ad2b",
   "metadata": {},
   "outputs": [],
   "source": [
    "books = pathlib.Path(\"D:/ПРОГА/Проектики/Github/Electronic_library/dataset/Химия\")\n",
    "files_to_process = []\n",
    "for book in books.iterdir():\n",
    "    files_to_process.append(str(book))\n",
    "\n",
    "clean_files = []\n",
    "for file in files_to_process:\n",
    "    clean_files.append(process_info(file))\n",
    "\n",
    "clean_data['Chemical'] = clean_files"
   ]
  },
  {
   "cell_type": "markdown",
   "id": "cb4d75d8-54b1-4231-b9a4-3645ae5b0db8",
   "metadata": {},
   "source": [
    "## Тексты искусствоведения"
   ]
  },
  {
   "cell_type": "code",
   "execution_count": 32,
   "id": "245d800f-8672-4bb2-bfb2-db75fab0ef7c",
   "metadata": {},
   "outputs": [],
   "source": [
    "books = pathlib.Path(\"D:/ПРОГА/Проектики/Github/Electronic_library/dataset/Искусствоведение\")\n",
    "files_to_process = []\n",
    "for book in books.iterdir():\n",
    "    files_to_process.append(str(book))\n",
    "\n",
    "clean_files = []\n",
    "for file in files_to_process:\n",
    "    clean_files.append(process_info(file))\n",
    "\n",
    "clean_data['Art'] = clean_files"
   ]
  },
  {
   "cell_type": "code",
   "execution_count": 33,
   "id": "9a4e7c3c-4226-488a-9b85-2671a19204d2",
   "metadata": {},
   "outputs": [
    {
     "data": {
      "text/plain": [
       "(20, 5)"
      ]
     },
     "execution_count": 33,
     "metadata": {},
     "output_type": "execute_result"
    }
   ],
   "source": [
    "clean_data.shape"
   ]
  },
  {
   "cell_type": "markdown",
   "id": "7c6022e3-b30c-47ca-886d-f3e609991eba",
   "metadata": {},
   "source": [
    "## Создание датасета"
   ]
  },
  {
   "cell_type": "code",
   "execution_count": 3,
   "id": "177b2d15-0a2e-4581-9cf4-466f46a69b8d",
   "metadata": {},
   "outputs": [
    {
     "ename": "NameError",
     "evalue": "name 'clean_data' is not defined",
     "output_type": "error",
     "traceback": [
      "\u001b[1;31m---------------------------------------------------------------------------\u001b[0m",
      "\u001b[1;31mNameError\u001b[0m                                 Traceback (most recent call last)",
      "Cell \u001b[1;32mIn [3], line 1\u001b[0m\n\u001b[1;32m----> 1\u001b[0m \u001b[43mclean_data\u001b[49m\u001b[38;5;241m.\u001b[39mto_csv(\u001b[38;5;124m'\u001b[39m\u001b[38;5;124mclean_data.csv\u001b[39m\u001b[38;5;124m'\u001b[39m, sep\u001b[38;5;241m=\u001b[39m\u001b[38;5;124m'\u001b[39m\u001b[38;5;124m,\u001b[39m\u001b[38;5;124m'\u001b[39m, index\u001b[38;5;241m=\u001b[39m\u001b[38;5;28;01mFalse\u001b[39;00m, encoding\u001b[38;5;241m=\u001b[39m\u001b[38;5;124m'\u001b[39m\u001b[38;5;124mutf-8-sig\u001b[39m\u001b[38;5;124m'\u001b[39m)\n",
      "\u001b[1;31mNameError\u001b[0m: name 'clean_data' is not defined"
     ]
    }
   ],
   "source": [
    "clean_data.to_csv('clean_data.csv', sep=',', index=False, encoding='utf-8-sig')"
   ]
  },
  {
   "cell_type": "markdown",
   "id": "9c04cac9-7961-4972-b10e-59980f5d9699",
   "metadata": {},
   "source": [
    "# Построение модели"
   ]
  },
  {
   "cell_type": "markdown",
   "id": "105c38eb-d14c-4bce-9bb4-7becaf275d0b",
   "metadata": {},
   "source": [
    "## Загрузка данных"
   ]
  },
  {
   "cell_type": "code",
   "execution_count": 3,
   "id": "eaabe204-3e3f-49e7-b662-8ddbff2aa86d",
   "metadata": {},
   "outputs": [],
   "source": [
    "data = pd.read_csv('clean_data.csv')"
   ]
  },
  {
   "cell_type": "code",
   "execution_count": 5,
   "id": "42e45ce0-1f47-4cd6-a774-707c5f8242a8",
   "metadata": {},
   "outputs": [
    {
     "data": {
      "text/html": [
       "<div>\n",
       "<style scoped>\n",
       "    .dataframe tbody tr th:only-of-type {\n",
       "        vertical-align: middle;\n",
       "    }\n",
       "\n",
       "    .dataframe tbody tr th {\n",
       "        vertical-align: top;\n",
       "    }\n",
       "\n",
       "    .dataframe thead th {\n",
       "        text-align: right;\n",
       "    }\n",
       "</style>\n",
       "<table border=\"1\" class=\"dataframe\">\n",
       "  <thead>\n",
       "    <tr style=\"text-align: right;\">\n",
       "      <th></th>\n",
       "      <th>Education</th>\n",
       "      <th>Art</th>\n",
       "      <th>Space</th>\n",
       "      <th>Sport</th>\n",
       "      <th>Chemical</th>\n",
       "    </tr>\n",
       "  </thead>\n",
       "  <tbody>\n",
       "    <tr>\n",
       "      <th>0</th>\n",
       "      <td>ПЕДАГОГИЧЕСКИЙ ОПЫТ / PEDAGOGICAL EXPERIENCE г...</td>\n",
       "      <td>8 РОССИЙСКИХ ЦЕННОСТЕЙ В КОНКРЕТНОИСТОРИЧЕСКОМ...</td>\n",
       "      <td>Солнечно -земная физика. 2024. Т. 10. № 4 Soln...</td>\n",
       "      <td>Ученые записки университета имени П.Ф. Лесгафт...</td>\n",
       "      <td>ХИМИЯ РАСТИТЕЛЬНОГО СЫРЬЯ . 2025 . №1. С. 106–...</td>\n",
       "    </tr>\n",
       "    <tr>\n",
       "      <th>1</th>\n",
       "      <td>ИНФОРМАТИЗАЦИЯ ОБРАЗОВАНИЯ / г. Москва, Россия...</td>\n",
       "      <td>110 БАУХАУСА И ИХ ВЛИЯНИЕ НА ТЕОРИЮ АРХИТЕКТУР...</td>\n",
       "      <td>Солнечно -земная физика. 2025. Т. 11. № 1 Soln...</td>\n",
       "      <td>Ученые записки университета имени П.Ф. Лесгафт...</td>\n",
       "      <td>ХИМИЯ РАСТИТЕЛЬНОГО СЫРЬЯ . 2025. №1. С. 188–1...</td>\n",
       "    </tr>\n",
       "    <tr>\n",
       "      <th>2</th>\n",
       "      <td>ИНФОРМАТИЗАЦИЯ ОБРАЗОВАНИЯ / Аннотация В повыш...</td>\n",
       "      <td>117 ⇒ Художественная культура. ЭстетикаТ ЕАТРА...</td>\n",
       "      <td>Солнечно -земная физика. 2025. Т. 11. № 1 Soln...</td>\n",
       "      <td>Ученые записки университета имени П.Ф. Лесгафт...</td>\n",
       "      <td>ХИМИЯ РАСТИТЕЛЬНОГО СЫРЬЯ . 2025. №1. С. 197–2...</td>\n",
       "    </tr>\n",
       "    <tr>\n",
       "      <th>3</th>\n",
       "      <td>ИНФОРМАТИЗАЦИЯ ОБРАЗОВАНИЯ / Аннотация В стать...</td>\n",
       "      <td>124 ДРАМАТУРГИИ ТЕЛЕСЕРИАЛА УДК 801 Химки, Мос...</td>\n",
       "      <td>Солнечно -земная физика. 2025. Т. 11. № 1 Soln...</td>\n",
       "      <td>Ученые записки университета имени П.Ф. Лесгафт...</td>\n",
       "      <td>ХИМИЯ РАСТИТЕЛЬНОГО СЫРЬЯ . 2025. №1. С. 208–2...</td>\n",
       "    </tr>\n",
       "    <tr>\n",
       "      <th>4</th>\n",
       "      <td>ПЕДАГОГИЧЕСКИЙ ОПЫТ / PEDAGOGICAL EXPERIENCE А...</td>\n",
       "      <td>132 В ТЕАТРАЛЬНЫХ ОПЫТАХ А. ВАСИЛЬЕВА УДК 740 ...</td>\n",
       "      <td>Солнечно -земная физика. 2025. Т. 11. № 1 Soln...</td>\n",
       "      <td>Ученые записки университета имени П.Ф. Лесгафт...</td>\n",
       "      <td>ХИМИЯ РАСТИТЕЛЬНОГО СЫРЬЯ . 2025. №1. С. 215–2...</td>\n",
       "    </tr>\n",
       "  </tbody>\n",
       "</table>\n",
       "</div>"
      ],
      "text/plain": [
       "                                           Education  \\\n",
       "0  ПЕДАГОГИЧЕСКИЙ ОПЫТ / PEDAGOGICAL EXPERIENCE г...   \n",
       "1  ИНФОРМАТИЗАЦИЯ ОБРАЗОВАНИЯ / г. Москва, Россия...   \n",
       "2  ИНФОРМАТИЗАЦИЯ ОБРАЗОВАНИЯ / Аннотация В повыш...   \n",
       "3  ИНФОРМАТИЗАЦИЯ ОБРАЗОВАНИЯ / Аннотация В стать...   \n",
       "4  ПЕДАГОГИЧЕСКИЙ ОПЫТ / PEDAGOGICAL EXPERIENCE А...   \n",
       "\n",
       "                                                 Art  \\\n",
       "0  8 РОССИЙСКИХ ЦЕННОСТЕЙ В КОНКРЕТНОИСТОРИЧЕСКОМ...   \n",
       "1  110 БАУХАУСА И ИХ ВЛИЯНИЕ НА ТЕОРИЮ АРХИТЕКТУР...   \n",
       "2  117 ⇒ Художественная культура. ЭстетикаТ ЕАТРА...   \n",
       "3  124 ДРАМАТУРГИИ ТЕЛЕСЕРИАЛА УДК 801 Химки, Мос...   \n",
       "4  132 В ТЕАТРАЛЬНЫХ ОПЫТАХ А. ВАСИЛЬЕВА УДК 740 ...   \n",
       "\n",
       "                                               Space  \\\n",
       "0  Солнечно -земная физика. 2024. Т. 10. № 4 Soln...   \n",
       "1  Солнечно -земная физика. 2025. Т. 11. № 1 Soln...   \n",
       "2  Солнечно -земная физика. 2025. Т. 11. № 1 Soln...   \n",
       "3  Солнечно -земная физика. 2025. Т. 11. № 1 Soln...   \n",
       "4  Солнечно -земная физика. 2025. Т. 11. № 1 Soln...   \n",
       "\n",
       "                                               Sport  \\\n",
       "0  Ученые записки университета имени П.Ф. Лесгафт...   \n",
       "1  Ученые записки университета имени П.Ф. Лесгафт...   \n",
       "2  Ученые записки университета имени П.Ф. Лесгафт...   \n",
       "3  Ученые записки университета имени П.Ф. Лесгафт...   \n",
       "4  Ученые записки университета имени П.Ф. Лесгафт...   \n",
       "\n",
       "                                            Chemical  \n",
       "0  ХИМИЯ РАСТИТЕЛЬНОГО СЫРЬЯ . 2025 . №1. С. 106–...  \n",
       "1  ХИМИЯ РАСТИТЕЛЬНОГО СЫРЬЯ . 2025. №1. С. 188–1...  \n",
       "2  ХИМИЯ РАСТИТЕЛЬНОГО СЫРЬЯ . 2025. №1. С. 197–2...  \n",
       "3  ХИМИЯ РАСТИТЕЛЬНОГО СЫРЬЯ . 2025. №1. С. 208–2...  \n",
       "4  ХИМИЯ РАСТИТЕЛЬНОГО СЫРЬЯ . 2025. №1. С. 215–2...  "
      ]
     },
     "execution_count": 5,
     "metadata": {},
     "output_type": "execute_result"
    }
   ],
   "source": [
    "data.head()"
   ]
  },
  {
   "cell_type": "markdown",
   "id": "330b1ffd-f660-4e35-a053-6640e47593a7",
   "metadata": {},
   "source": [
    "## Загрузка модели с Hugging Face"
   ]
  },
  {
   "cell_type": "code",
   "execution_count": 4,
   "id": "c42182b2-f570-4078-8e5b-3edbeb530103",
   "metadata": {},
   "outputs": [],
   "source": [
    "pipe = pipeline(\"zero-shot-classification\", model=\"MoritzLaurer/mDeBERTa-v3-base-mnli-xnli\", hypothesis_template=\"Определи тему научной статьи '{}'\", disable_hf_device_logging=True)"
   ]
  },
  {
   "cell_type": "markdown",
   "id": "702ee80e-ffa4-477e-9b79-76e05630f950",
   "metadata": {},
   "source": [
    "## Разделение текста на части"
   ]
  },
  {
   "cell_type": "code",
   "execution_count": 5,
   "id": "327f10f5-e2a4-4276-9045-c6ebddb2be45",
   "metadata": {},
   "outputs": [],
   "source": [
    "from nltk import sent_tokenize"
   ]
  },
  {
   "cell_type": "code",
   "execution_count": 6,
   "id": "80db0d83-b65f-4bf3-8642-a53a11e6e995",
   "metadata": {},
   "outputs": [],
   "source": [
    "def chunk_text(text, window_size=3, overlap=1):\n",
    "    sentences = sent_tokenize(text)\n",
    "    chunks = []\n",
    "    for i in range(0, len(sentences), window_size-overlap):\n",
    "        chunks.append(\" \".join(sentences[i:i+window_size]))\n",
    "    return chunks"
   ]
  },
  {
   "cell_type": "code",
   "execution_count": 9,
   "id": "4957a2b8-748d-4cb0-bcf9-1554576b400f",
   "metadata": {},
   "outputs": [],
   "source": [
    "chunks = chunk_text(data['Education'][0])"
   ]
  },
  {
   "cell_type": "code",
   "execution_count": 10,
   "id": "32089aa0-2f07-43dd-aa0b-4e65ee0c15db",
   "metadata": {},
   "outputs": [
    {
     "data": {
      "text/plain": [
       "'ПЕДАГОГИЧЕСКИЙ ОПЫТ / PEDAGOGICAL EXPERIENCE г. Москва, Россия Аннотация Подготовка востребованных на рынке труда специалистов в области информационных технологий (в том числе специалистов по веб-разработке) является одной из важнейших задач высшего образования в условиях цифровизации всех сфер экономики и жизни общества. Для успешного решения этой задачи необходимо тесное взаимодействие вузов и работодателей на всех этапах реализации основных профессиональных образовательных программ: от их создания до оценки сформированности профессиональных компетенций. Статья посвящена актуальной проблеме выбора и проектирования эффективных средств оценивания профессиональных компетенций обучающихся ИТ-направлений в рамках расширенной подготовки в области веб-разработки.'"
      ]
     },
     "execution_count": 10,
     "metadata": {},
     "output_type": "execute_result"
    }
   ],
   "source": [
    "chunks[0]"
   ]
  },
  {
   "cell_type": "markdown",
   "id": "74bb0c43-5e12-4ca1-9fc6-fe07584ffd1d",
   "metadata": {},
   "source": [
    "## Проверка модели на частях"
   ]
  },
  {
   "cell_type": "code",
   "execution_count": 7,
   "id": "b1aa3c2e-5013-4735-bef6-bfd5c2565e43",
   "metadata": {},
   "outputs": [],
   "source": [
    "classes = ['Education', 'Art', 'Space', 'Sport', 'Chemical']"
   ]
  },
  {
   "cell_type": "code",
   "execution_count": 8,
   "id": "a2a8ceda-7085-4372-a7b7-35e82ff4accf",
   "metadata": {},
   "outputs": [],
   "source": [
    "def get_pred(query):\n",
    "    answer = pipe(query, classes, multi_label=False)\n",
    "    return [answer['labels'], answer['scores']]"
   ]
  },
  {
   "cell_type": "code",
   "execution_count": 60,
   "id": "0c5ec689-5b71-4495-97e4-fde326574d40",
   "metadata": {},
   "outputs": [
    {
     "name": "stdout",
     "output_type": "stream",
     "text": [
      "[['Education', 'Art', 'Space', 'Sport', 'Chemical'], [0.9758127927780151, 0.00766792194917798, 0.007569583132863045, 0.00525266258046031, 0.0036970695946365595]]\n"
     ]
    }
   ],
   "source": [
    "print(get_pred(chunks[0]))"
   ]
  },
  {
   "cell_type": "code",
   "execution_count": 61,
   "id": "44e04d4d-d0be-4ecb-90c5-bdb22af2145d",
   "metadata": {},
   "outputs": [
    {
     "name": "stdout",
     "output_type": "stream",
     "text": [
      "[['Education', 'Art', 'Space', 'Sport', 'Chemical'], [0.9370293021202087, 0.0210417527705431, 0.020402079448103905, 0.014597942121326923, 0.006928957533091307]]\n"
     ]
    }
   ],
   "source": [
    "print(get_pred(chunks[1]))"
   ]
  },
  {
   "cell_type": "code",
   "execution_count": 62,
   "id": "1718f215-5aaa-4c85-b1c6-e3e7bfe3f894",
   "metadata": {},
   "outputs": [
    {
     "name": "stdout",
     "output_type": "stream",
     "text": [
      "[['Education', 'Space', 'Art', 'Chemical', 'Sport'], [0.5185869932174683, 0.166321262717247, 0.1530447006225586, 0.08969689905643463, 0.07235012203454971]]\n"
     ]
    }
   ],
   "source": [
    "print(get_pred(chunks[2]))"
   ]
  },
  {
   "cell_type": "code",
   "execution_count": 76,
   "id": "9772db95-3eb0-4de7-a9c8-41b1a6c7209a",
   "metadata": {},
   "outputs": [
    {
     "name": "stdout",
     "output_type": "stream",
     "text": [
      "[['Education', 'Art', 'Sport', 'Chemical', 'Space'], [0.977515697479248, 0.006754819303750992, 0.00572081608697772, 0.005458444822579622, 0.004550295881927013]]\n"
     ]
    }
   ],
   "source": [
    "print(get_pred(chunks[3]))"
   ]
  },
  {
   "cell_type": "code",
   "execution_count": 9,
   "id": "520c9fda-08ab-4e76-b5bb-518aa6b70846",
   "metadata": {},
   "outputs": [],
   "source": [
    "from collections import defaultdict\n",
    "\n",
    "def aggregate(document):\n",
    "    # Делим документ\n",
    "    chunks = chunk_text(document)\n",
    "\n",
    "    # Предсказываем каждую часть\n",
    "    preds = []\n",
    "    for chun in chunks:\n",
    "        preds.append(get_pred(chun))\n",
    "        \n",
    "    # Считаем взвешенную метрику\n",
    "    scores = defaultdict(float)\n",
    "    for pred in preds:\n",
    "        for label, score in zip(pred[0], pred[1]):\n",
    "            scores[label] += score\n",
    "\n",
    "    return max(scores, key=scores.get)"
   ]
  },
  {
   "cell_type": "code",
   "execution_count": 18,
   "id": "9b196ade-4738-45cf-b396-cdd49fd07600",
   "metadata": {},
   "outputs": [
    {
     "name": "stdout",
     "output_type": "stream",
     "text": [
      "Education\n",
      "Код выполнялся 446.1664 секунд\n"
     ]
    }
   ],
   "source": [
    "# Засекаем начальное время\n",
    "start_time = time.time()\n",
    "\n",
    "print(aggregate(data['Education'][0]))\n",
    "\n",
    "# Засекаем конечное время и вычисляем разницу\n",
    "end_time = time.time()\n",
    "execution_time = end_time - start_time\n",
    "\n",
    "print(f\"Код выполнялся {execution_time:.4f} секунд\")"
   ]
  },
  {
   "cell_type": "markdown",
   "id": "cddeed1b-9c30-4008-abfe-4565b3962aeb",
   "metadata": {},
   "source": [
    "## Предсказание класса на научных статьях"
   ]
  },
  {
   "cell_type": "code",
   "execution_count": 10,
   "id": "a299f563-81ef-43d9-a000-d34f49d23eea",
   "metadata": {},
   "outputs": [],
   "source": [
    "predictions = pd.DataFrame()"
   ]
  },
  {
   "cell_type": "markdown",
   "id": "7fbe1345-5dd1-4efe-ac16-429ee4eca2ad",
   "metadata": {},
   "source": [
    "**Предсказания проделываются на Kaggle, так как там значительно быстрее на GPU**"
   ]
  },
  {
   "cell_type": "code",
   "execution_count": 19,
   "id": "ac18bb7a-9b3c-4ebc-9248-d9f6035121d8",
   "metadata": {},
   "outputs": [],
   "source": [
    "import time\n",
    "\n",
    "# Засекаем начальное время\n",
    "start_time = time.time()\n",
    "\n",
    "education = []\n",
    "art = []\n",
    "sport = []\n",
    "chemical = []\n",
    "space = []\n",
    "for i in range(20):\n",
    "    education.append(aggregate(data['Education'][i]))\n",
    "    art.append(aggregate(data['Art'][i]))\n",
    "    sport.append(aggregate(data['Sport'][i]))\n",
    "    chemical.append(aggregate(data['Chemical'][i]))\n",
    "    space.append(aggregate(data['Space'][i]))\n",
    "\n",
    "\n",
    "    print(f'{i} iteration')\n",
    "    \n",
    "predictions['Education'] = education\n",
    "predictions['Art'] = art\n",
    "predictions['Sport'] = sport\n",
    "predictions['Chemical'] = chemical\n",
    "predictions['Space'] = space\n",
    "\n",
    "# Засекаем конечное время и вычисляем разницу\n",
    "end_time = time.time()\n",
    "execution_time = end_time - start_time\n",
    "\n",
    "print(f\"Код выполнялся {execution_time:.4f} секунд\")"
   ]
  },
  {
   "cell_type": "markdown",
   "id": "c4726db2-96bb-4203-a037-2a30176747c7",
   "metadata": {},
   "source": [
    "## Загрузка предсказаний с Kaggle"
   ]
  },
  {
   "cell_type": "code",
   "execution_count": 14,
   "id": "e8ec05be-7807-46c2-919d-ee5145684856",
   "metadata": {},
   "outputs": [],
   "source": [
    "preds = pd.read_csv('preds.csv').drop('Unnamed: 0', axis=1)"
   ]
  },
  {
   "cell_type": "code",
   "execution_count": 16,
   "id": "cbaf95be-eabc-4e54-89a3-5da3e113cd8d",
   "metadata": {},
   "outputs": [
    {
     "data": {
      "text/html": [
       "<div>\n",
       "<style scoped>\n",
       "    .dataframe tbody tr th:only-of-type {\n",
       "        vertical-align: middle;\n",
       "    }\n",
       "\n",
       "    .dataframe tbody tr th {\n",
       "        vertical-align: top;\n",
       "    }\n",
       "\n",
       "    .dataframe thead th {\n",
       "        text-align: right;\n",
       "    }\n",
       "</style>\n",
       "<table border=\"1\" class=\"dataframe\">\n",
       "  <thead>\n",
       "    <tr style=\"text-align: right;\">\n",
       "      <th></th>\n",
       "      <th>Education</th>\n",
       "      <th>Art</th>\n",
       "      <th>Sport</th>\n",
       "      <th>Chemical</th>\n",
       "      <th>Space</th>\n",
       "    </tr>\n",
       "  </thead>\n",
       "  <tbody>\n",
       "    <tr>\n",
       "      <th>0</th>\n",
       "      <td>Education</td>\n",
       "      <td>Art</td>\n",
       "      <td>Sport</td>\n",
       "      <td>Chemical</td>\n",
       "      <td>Space</td>\n",
       "    </tr>\n",
       "    <tr>\n",
       "      <th>1</th>\n",
       "      <td>Education</td>\n",
       "      <td>Art</td>\n",
       "      <td>Sport</td>\n",
       "      <td>Chemical</td>\n",
       "      <td>Space</td>\n",
       "    </tr>\n",
       "    <tr>\n",
       "      <th>2</th>\n",
       "      <td>Education</td>\n",
       "      <td>Art</td>\n",
       "      <td>Sport</td>\n",
       "      <td>Chemical</td>\n",
       "      <td>Space</td>\n",
       "    </tr>\n",
       "    <tr>\n",
       "      <th>3</th>\n",
       "      <td>Education</td>\n",
       "      <td>Art</td>\n",
       "      <td>Sport</td>\n",
       "      <td>Chemical</td>\n",
       "      <td>Space</td>\n",
       "    </tr>\n",
       "    <tr>\n",
       "      <th>4</th>\n",
       "      <td>Education</td>\n",
       "      <td>Art</td>\n",
       "      <td>Sport</td>\n",
       "      <td>Chemical</td>\n",
       "      <td>Space</td>\n",
       "    </tr>\n",
       "    <tr>\n",
       "      <th>5</th>\n",
       "      <td>Education</td>\n",
       "      <td>Art</td>\n",
       "      <td>Sport</td>\n",
       "      <td>Chemical</td>\n",
       "      <td>Space</td>\n",
       "    </tr>\n",
       "    <tr>\n",
       "      <th>6</th>\n",
       "      <td>Education</td>\n",
       "      <td>Education</td>\n",
       "      <td>Sport</td>\n",
       "      <td>Chemical</td>\n",
       "      <td>Space</td>\n",
       "    </tr>\n",
       "    <tr>\n",
       "      <th>7</th>\n",
       "      <td>Education</td>\n",
       "      <td>Education</td>\n",
       "      <td>Sport</td>\n",
       "      <td>Chemical</td>\n",
       "      <td>Space</td>\n",
       "    </tr>\n",
       "    <tr>\n",
       "      <th>8</th>\n",
       "      <td>Education</td>\n",
       "      <td>Art</td>\n",
       "      <td>Sport</td>\n",
       "      <td>Chemical</td>\n",
       "      <td>Space</td>\n",
       "    </tr>\n",
       "    <tr>\n",
       "      <th>9</th>\n",
       "      <td>Education</td>\n",
       "      <td>Education</td>\n",
       "      <td>Sport</td>\n",
       "      <td>Chemical</td>\n",
       "      <td>Space</td>\n",
       "    </tr>\n",
       "    <tr>\n",
       "      <th>10</th>\n",
       "      <td>Education</td>\n",
       "      <td>Education</td>\n",
       "      <td>Sport</td>\n",
       "      <td>Chemical</td>\n",
       "      <td>Space</td>\n",
       "    </tr>\n",
       "    <tr>\n",
       "      <th>11</th>\n",
       "      <td>Education</td>\n",
       "      <td>Art</td>\n",
       "      <td>Education</td>\n",
       "      <td>Chemical</td>\n",
       "      <td>Space</td>\n",
       "    </tr>\n",
       "    <tr>\n",
       "      <th>12</th>\n",
       "      <td>Education</td>\n",
       "      <td>Art</td>\n",
       "      <td>Sport</td>\n",
       "      <td>Chemical</td>\n",
       "      <td>Space</td>\n",
       "    </tr>\n",
       "    <tr>\n",
       "      <th>13</th>\n",
       "      <td>Education</td>\n",
       "      <td>Art</td>\n",
       "      <td>Art</td>\n",
       "      <td>Chemical</td>\n",
       "      <td>Space</td>\n",
       "    </tr>\n",
       "    <tr>\n",
       "      <th>14</th>\n",
       "      <td>Education</td>\n",
       "      <td>Art</td>\n",
       "      <td>Sport</td>\n",
       "      <td>Chemical</td>\n",
       "      <td>Space</td>\n",
       "    </tr>\n",
       "    <tr>\n",
       "      <th>15</th>\n",
       "      <td>Education</td>\n",
       "      <td>Art</td>\n",
       "      <td>Sport</td>\n",
       "      <td>Chemical</td>\n",
       "      <td>Space</td>\n",
       "    </tr>\n",
       "    <tr>\n",
       "      <th>16</th>\n",
       "      <td>Education</td>\n",
       "      <td>Education</td>\n",
       "      <td>Sport</td>\n",
       "      <td>Chemical</td>\n",
       "      <td>Space</td>\n",
       "    </tr>\n",
       "    <tr>\n",
       "      <th>17</th>\n",
       "      <td>Education</td>\n",
       "      <td>Art</td>\n",
       "      <td>Sport</td>\n",
       "      <td>Chemical</td>\n",
       "      <td>Space</td>\n",
       "    </tr>\n",
       "    <tr>\n",
       "      <th>18</th>\n",
       "      <td>Art</td>\n",
       "      <td>Art</td>\n",
       "      <td>Sport</td>\n",
       "      <td>Chemical</td>\n",
       "      <td>Space</td>\n",
       "    </tr>\n",
       "    <tr>\n",
       "      <th>19</th>\n",
       "      <td>Education</td>\n",
       "      <td>Education</td>\n",
       "      <td>Sport</td>\n",
       "      <td>Chemical</td>\n",
       "      <td>Space</td>\n",
       "    </tr>\n",
       "  </tbody>\n",
       "</table>\n",
       "</div>"
      ],
      "text/plain": [
       "    Education        Art      Sport  Chemical  Space\n",
       "0   Education        Art      Sport  Chemical  Space\n",
       "1   Education        Art      Sport  Chemical  Space\n",
       "2   Education        Art      Sport  Chemical  Space\n",
       "3   Education        Art      Sport  Chemical  Space\n",
       "4   Education        Art      Sport  Chemical  Space\n",
       "5   Education        Art      Sport  Chemical  Space\n",
       "6   Education  Education      Sport  Chemical  Space\n",
       "7   Education  Education      Sport  Chemical  Space\n",
       "8   Education        Art      Sport  Chemical  Space\n",
       "9   Education  Education      Sport  Chemical  Space\n",
       "10  Education  Education      Sport  Chemical  Space\n",
       "11  Education        Art  Education  Chemical  Space\n",
       "12  Education        Art      Sport  Chemical  Space\n",
       "13  Education        Art        Art  Chemical  Space\n",
       "14  Education        Art      Sport  Chemical  Space\n",
       "15  Education        Art      Sport  Chemical  Space\n",
       "16  Education  Education      Sport  Chemical  Space\n",
       "17  Education        Art      Sport  Chemical  Space\n",
       "18        Art        Art      Sport  Chemical  Space\n",
       "19  Education  Education      Sport  Chemical  Space"
      ]
     },
     "execution_count": 16,
     "metadata": {},
     "output_type": "execute_result"
    }
   ],
   "source": [
    "preds"
   ]
  },
  {
   "cell_type": "markdown",
   "id": "aecf97a2-1161-41e6-a35f-835c3743c919",
   "metadata": {},
   "source": [
    "# Вычисление метрик"
   ]
  },
  {
   "cell_type": "code",
   "execution_count": 27,
   "id": "2c113305-a5b6-491c-b146-262295852f0a",
   "metadata": {},
   "outputs": [],
   "source": [
    "from sklearn.metrics import accuracy_score, classification_report, RocCurveDisplay, ConfusionMatrixDisplay, confusion_matrix"
   ]
  },
  {
   "cell_type": "code",
   "execution_count": 25,
   "id": "3eb3788f-3d08-42f9-836b-f55f2bd30c5f",
   "metadata": {},
   "outputs": [
    {
     "name": "stdout",
     "output_type": "stream",
     "text": [
      "              precision    recall  f1-score   support\n",
      "\n",
      "         Art       0.88      0.70      0.78        20\n",
      "    Chemical       1.00      1.00      1.00        20\n",
      "   Education       0.73      0.95      0.83        20\n",
      "       Space       1.00      1.00      1.00        20\n",
      "       Sport       1.00      0.90      0.95        20\n",
      "\n",
      "    accuracy                           0.91       100\n",
      "   macro avg       0.92      0.91      0.91       100\n",
      "weighted avg       0.92      0.91      0.91       100\n",
      "\n"
     ]
    }
   ],
   "source": [
    "y_true = 20 * ['Education'] + 20 * ['Art'] + 20 * ['Sport'] + 20 * ['Chemical'] + 20 * ['Space']\n",
    "predictions = pd.concat([preds['Education'], preds['Art'], preds['Sport'], preds['Chemical'], preds['Space']], ignore_index=True)\n",
    "print(classification_report(y_true, predictions))"
   ]
  },
  {
   "cell_type": "code",
   "execution_count": 32,
   "id": "15bd093e-8157-4876-bbfa-acb1d843c65e",
   "metadata": {},
   "outputs": [
    {
     "data": {
      "image/png": "[encoded data removed]",
      "text/plain": [
       "<Figure size 800x500 with 2 Axes>"
      ]
     },
     "metadata": {},
     "output_type": "display_data"
    }
   ],
   "source": [
    "plt.figure(figsize=(8, 5))\n",
    "\n",
    "cm = confusion_matrix(y_true, predictions, labels=['Education', 'Art', 'Sport', 'Chemical', 'Space'])\n",
    "sns.heatmap(cm, annot=True, fmt='d', cmap='viridis', \n",
    "            xticklabels=preds.columns, \n",
    "            yticklabels=preds.columns\n",
    ")\n",
    "plt.xlabel('Predicted')\n",
    "plt.ylabel('True')\n",
    "plt.title('Confusion Matrix');"
   ]
  },
  {
   "cell_type": "code",
   "execution_count": 33,
   "id": "2050d3e3-10b9-4620-b1c8-27edae36460e",
   "metadata": {},
   "outputs": [
    {
     "name": "stdout",
     "output_type": "stream",
     "text": [
      "Accuracy: 0.91\n"
     ]
    }
   ],
   "source": [
    "from sklearn.metrics import accuracy_score\n",
    "print(f\"Accuracy: {accuracy_score(y_true, predictions):.2f}\")"
   ]
  },
  {
   "cell_type": "code",
   "execution_count": 35,
   "id": "b62d902c-9c43-4a82-a380-ca13213b0896",
   "metadata": {},
   "outputs": [
    {
     "data": {
      "text/plain": [
       "0     Education\n",
       "1     Education\n",
       "2     Education\n",
       "3     Education\n",
       "4     Education\n",
       "5     Education\n",
       "6     Education\n",
       "7     Education\n",
       "8     Education\n",
       "9     Education\n",
       "10    Education\n",
       "11    Education\n",
       "12    Education\n",
       "13    Education\n",
       "14    Education\n",
       "15    Education\n",
       "16    Education\n",
       "17    Education\n",
       "18          Art\n",
       "19    Education\n",
       "dtype: object"
      ]
     },
     "execution_count": 35,
     "metadata": {},
     "output_type": "execute_result"
    }
   ],
   "source": [
    "predictions.head(20)"
   ]
  },
  {
   "cell_type": "code",
   "execution_count": null,
   "id": "f239b076-01fc-406c-9320-1de9357d0cd9",
   "metadata": {},
   "outputs": [],
   "source": []
  },
  {
   "cell_type": "code",
   "execution_count": null,
   "id": "39d8d31c-2b82-4e51-8b5b-f0ce1d666a51",
   "metadata": {},
   "outputs": [],
   "source": []
  }
 ],
 "metadata": {
  "kernelspec": {
   "display_name": "Python 3 (ipykernel)",
   "language": "python",
   "name": "python3"
  },
  "language_info": {
   "codemirror_mode": {
    "name": "ipython",
    "version": 3
   },
   "file_extension": ".py",
   "mimetype": "text/x-python",
   "name": "python",
   "nbconvert_exporter": "python",
   "pygments_lexer": "ipython3",
   "version": "3.10.7"
  }
 },
 "nbformat": 4,
 "nbformat_minor": 5
}
